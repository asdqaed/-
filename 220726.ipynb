{
 "cells": [
  {
   "cell_type": "code",
   "execution_count": null,
   "metadata": {},
   "outputs": [],
   "source": [
    "N,M = map(int,input().split())\n",
    "poketmon = {}\n",
    "for i in range(1,N+1):\n",
    "    s= input()\n",
    "    poketmon[s] = i\n",
    "print(poketmon)\n",
    "for _ in range(M):\n",
    "    result = input()\n",
    "    if ord(result[0]) >= 65:\n",
    "        print(poketmon[result])\n",
    "    else:\n",
    "        print(list(poketmon.keys())[int(result)-1])\n",
    "    \n"
   ]
  },
  {
   "cell_type": "code",
   "execution_count": null,
   "metadata": {},
   "outputs": [],
   "source": [
    "a = '1230'\n",
    "print(ord(a[3]))"
   ]
  },
  {
   "cell_type": "code",
   "execution_count": null,
   "metadata": {},
   "outputs": [],
   "source": [
    "import sys\n",
    "\n",
    "input = sys.stdin.readline\n",
    "\n",
    "N,M = map(int,input().split())\n",
    "poketmon = {}\n",
    "poketmon_reverse = {}\n",
    "for i in range(1,N+1):\n",
    "    s= input()\n",
    "    poketmon[s] = i\n",
    "    poketmon_reverse[i] = s\n",
    "for _ in range(M):\n",
    "    result = input().strip()\n",
    "    if result in poketmon:\n",
    "        print(poketmon[result])\n",
    "    elif int(result) in poketmon_reverse:\n",
    "        print(poketmon_reverse[int(result)])"
   ]
  },
  {
   "cell_type": "code",
   "execution_count": null,
   "metadata": {},
   "outputs": [],
   "source": [
    "import sys\n",
    "\n",
    "input = sys.stdin.readline\n",
    "\n",
    "N,M = map(int,input().split())\n",
    "poketmon = {}\n",
    "poketmon_reverse = {}\n",
    "for i in range(1,N+1):\n",
    "    s= input().strip()\n",
    "    poketmon[s] = i\n",
    "    poketmon_reverse[i] = s\n",
    "for _ in range(M):\n",
    "    result = input().strip()\n",
    "    \n",
    "    if result.isdigit():\n",
    "        print(poketmon_reverse[int(result)])\n",
    "    else:\n",
    "        print(poketmon[result])"
   ]
  },
  {
   "cell_type": "code",
   "execution_count": null,
   "metadata": {},
   "outputs": [],
   "source": [
    "import sys\n",
    "\n",
    "input = sys.stdin.readline\n",
    "\n",
    "n, m = map(int, input().split())\n",
    "\n",
    "dict = {}\n",
    "\n",
    "for i in range(1, n + 1):\n",
    "    a = input().rstrip()\n",
    "    dict[i] = a\n",
    "    dict[a] = i\n",
    "\n",
    "for i in range(m):\n",
    "    quest = input().rstrip()\n",
    "    if quest.isdigit():\n",
    "        print(dict[int(quest)])\n",
    "    else:\n",
    "        print(dict[quest])"
   ]
  },
  {
   "cell_type": "code",
   "execution_count": null,
   "metadata": {},
   "outputs": [],
   "source": [
    "import sys\n",
    "input = sys.stdin.readline\n",
    "N = int(input())\n",
    "N_dict = {} \n",
    "result = ''\n",
    "N_list = list(map(int,input().split()))\n",
    "for num in N_list:\n",
    "    try:\n",
    "        N_dict[num] += 1\n",
    "    except KeyError:\n",
    "        N_dict[num] = 1\n",
    "M = int(input())\n",
    "M_list = list(map(int,input().split()))\n",
    "for num in M_list:\n",
    "    if num in N_dict:\n",
    "        result += str(N_dict[num])+' '\n",
    "    else:\n",
    "        result += '0 '\n",
    "print(result)"
   ]
  },
  {
   "cell_type": "code",
   "execution_count": null,
   "metadata": {},
   "outputs": [],
   "source": [
    "a = [0]*10\n",
    "print('햄스터')\n",
    "\n",
    "a[2] = 2\n",
    "print(a)"
   ]
  },
  {
   "cell_type": "code",
   "execution_count": null,
   "metadata": {},
   "outputs": [],
   "source": [
    "import sys\n",
    "input = sys.stdin.readline\n",
    "\n",
    "n,m = map(int,input().split())\n",
    "\n",
    "nset = set(input() for _ in range(n))\n",
    "mset = set(input() for _ in range(m))\n",
    "\n",
    "result = nset & mset\n",
    "print(len(result))\n",
    "\n",
    "result2 = list(result)\n",
    "result2.sort()\n",
    "for i in result2:\n",
    "    print(i.strip())"
   ]
  },
  {
   "cell_type": "code",
   "execution_count": null,
   "metadata": {},
   "outputs": [],
   "source": [
    "a,b = map(int,input().split())\n",
    "aset = set(input().split())\n",
    "bset = set(input().split())\n",
    "\n",
    "cset = aset ^ bset\n",
    "print(len(cset))"
   ]
  },
  {
   "cell_type": "code",
   "execution_count": null,
   "metadata": {},
   "outputs": [],
   "source": [
    "from itertools import combinations\n",
    "a = input()\n",
    "aset = set()\n",
    "alist = []\n",
    "#alist = []\n",
    "for i in range(1,len(a)+1):\n",
    "    temp=combinations(a,i)\n",
    "    alist.extend(temp)\n",
    "print(alist)\n",
    "# temp = itertools.permutations(a)\n",
    "# alist += temp\n",
    "# #print(alist)\n",
    "# aset = set(alist)\n",
    "# print(aset)"
   ]
  },
  {
   "cell_type": "code",
   "execution_count": 42,
   "metadata": {},
   "outputs": [
    {
     "name": "stdout",
     "output_type": "stream",
     "text": [
      "12\n"
     ]
    }
   ],
   "source": [
    "a = str(input())\n",
    "alen = len(a)\n",
    "alist = []\n",
    "for i in range(alen):\n",
    "    for j in range(alen - i):\n",
    "        alist.append(a[j:j+i+1])\n",
    "        \n",
    "print(len(set(alist)))\n"
   ]
  },
  {
   "cell_type": "code",
   "execution_count": 41,
   "metadata": {},
   "outputs": [
    {
     "name": "stdout",
     "output_type": "stream",
     "text": [
      "12\n"
     ]
    }
   ],
   "source": [
    "string = str(input())\n",
    "\n",
    "strings = []\n",
    "\n",
    "for i in range(len(string)):\n",
    "    for j in range(len(string) - i):\n",
    "        strings.append(string[j:j+i+1])\n",
    "        \n",
    "print(len(set(strings)))"
   ]
  }
 ],
 "metadata": {
  "kernelspec": {
   "display_name": "Python 3.9.13 64-bit",
   "language": "python",
   "name": "python3"
  },
  "language_info": {
   "codemirror_mode": {
    "name": "ipython",
    "version": 3
   },
   "file_extension": ".py",
   "mimetype": "text/x-python",
   "name": "python",
   "nbconvert_exporter": "python",
   "pygments_lexer": "ipython3",
   "version": "3.9.13"
  },
  "orig_nbformat": 4,
  "vscode": {
   "interpreter": {
    "hash": "cf92aa13fedf815d5c8dd192b8d835913fde3e8bc926b2a0ad6cc74ef2ba3ca2"
   }
  }
 },
 "nbformat": 4,
 "nbformat_minor": 2
}
