{
 "cells": [
  {
   "cell_type": "code",
   "execution_count": 30,
   "metadata": {},
   "outputs": [
    {
     "name": "stdout",
     "output_type": "stream",
     "text": [
      "{'A': 1, 'S': 2, 'D': 3}\n",
      "1\n",
      "2\n",
      "3\n"
     ]
    }
   ],
   "source": [
    "N,M = map(int,input().split())\n",
    "poketmon = {}\n",
    "for i in range(1,N+1):\n",
    "    s= input()\n",
    "    poketmon[s] = i\n",
    "print(poketmon)\n",
    "for _ in range(M):\n",
    "    result = input()\n",
    "    if ord(result[0]) >= 65:\n",
    "        print(poketmon[result])\n",
    "    else:\n",
    "        print(list(poketmon.keys())[int(result)-1])\n",
    "    \n"
   ]
  },
  {
   "cell_type": "code",
   "execution_count": 35,
   "metadata": {},
   "outputs": [
    {
     "name": "stdout",
     "output_type": "stream",
     "text": [
      "48\n"
     ]
    }
   ],
   "source": [
    "a = '1230'\n",
    "print(ord(a[3]))"
   ]
  },
  {
   "cell_type": "code",
   "execution_count": 5,
   "metadata": {},
   "outputs": [
    {
     "name": "stdout",
     "output_type": "stream",
     "text": [
      "{'A': 1}\n",
      "{1: 'A'}\n",
      "{'A': 1, 'S': 2}\n",
      "{1: 'A', 2: 'S'}\n",
      "{'A': 1, 'S': 2, 'D': 3}\n",
      "{1: 'A', 2: 'S', 3: 'D'}\n",
      "A\n",
      "2\n",
      "3\n"
     ]
    }
   ],
   "source": [
    "import sys\n",
    "\n",
    "input = sys.stdin.readline\n",
    "\n",
    "N,M = map(int,input().split())\n",
    "poketmon = {}\n",
    "poketmon_reverse = {}\n",
    "for i in range(1,N+1):\n",
    "    s= input()\n",
    "    poketmon[s] = i\n",
    "    poketmon_reverse[i] = s\n",
    "for _ in range(M):\n",
    "    result = input().strip()\n",
    "    if result in poketmon:\n",
    "        print(poketmon[result])\n",
    "    elif int(result) in poketmon_reverse:\n",
    "        print(poketmon_reverse[int(result)])"
   ]
  },
  {
   "cell_type": "code",
   "execution_count": null,
   "metadata": {},
   "outputs": [],
   "source": [
    "import sys\n",
    "\n",
    "input = sys.stdin.readline\n",
    "\n",
    "N,M = map(int,input().split())\n",
    "poketmon = {}\n",
    "poketmon_reverse = {}\n",
    "for i in range(1,N+1):\n",
    "    s= input().strip()\n",
    "    poketmon[s] = i\n",
    "    poketmon_reverse[i] = s\n",
    "for _ in range(M):\n",
    "    result = input().strip()\n",
    "    \n",
    "    if result.isdigit():\n",
    "        print(poketmon_reverse[int(result)])\n",
    "    else:\n",
    "        print(poketmon[result])"
   ]
  },
  {
   "cell_type": "code",
   "execution_count": null,
   "metadata": {},
   "outputs": [],
   "source": [
    "import sys\n",
    "\n",
    "input = sys.stdin.readline\n",
    "\n",
    "n, m = map(int, input().split())\n",
    "\n",
    "dict = {}\n",
    "\n",
    "for i in range(1, n + 1):\n",
    "    a = input().rstrip()\n",
    "    dict[i] = a\n",
    "    dict[a] = i\n",
    "\n",
    "for i in range(m):\n",
    "    quest = input().rstrip()\n",
    "    if quest.isdigit():\n",
    "        print(dict[int(quest)])\n",
    "    else:\n",
    "        print(dict[quest])"
   ]
  }
 ],
 "metadata": {
  "kernelspec": {
   "display_name": "Python 3.9.13 64-bit",
   "language": "python",
   "name": "python3"
  },
  "language_info": {
   "codemirror_mode": {
    "name": "ipython",
    "version": 3
   },
   "file_extension": ".py",
   "mimetype": "text/x-python",
   "name": "python",
   "nbconvert_exporter": "python",
   "pygments_lexer": "ipython3",
   "version": "3.9.13"
  },
  "orig_nbformat": 4,
  "vscode": {
   "interpreter": {
    "hash": "cf92aa13fedf815d5c8dd192b8d835913fde3e8bc926b2a0ad6cc74ef2ba3ca2"
   }
  }
 },
 "nbformat": 4,
 "nbformat_minor": 2
}
