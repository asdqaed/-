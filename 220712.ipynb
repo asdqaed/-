{
 "cells": [
  {
   "cell_type": "code",
   "execution_count": 3,
   "metadata": {},
   "outputs": [
    {
     "name": "stdout",
     "output_type": "stream",
     "text": [
      "36\n"
     ]
    }
   ],
   "source": [
    "a = input()\n",
    "b = ['ABC','DEF','GHI','JKL','MNO','PQRS','TUV'\n",
    ",'WXYZ']\n",
    "sum = 0\n",
    "\n",
    "for i in range(len(a)):\n",
    "    for j in range(8):\n",
    "        if a[i] in b[j]:\n",
    "            sum += j+3\n",
    "            break\n",
    "print(sum)"
   ]
  },
  {
   "cell_type": "code",
   "execution_count": 37,
   "metadata": {},
   "outputs": [
    {
     "name": "stdout",
     "output_type": "stream",
     "text": [
      "3\n"
     ]
    }
   ],
   "source": [
    "a = input()\n",
    "b = ['c=','c-','dz=','d-','lj','nj','s=','z=']\n",
    "sum = 0\n",
    "\n",
    "for i in range(8):\n",
    "    n = a.count(b[i])\n",
    "    if n == 0:\n",
    "        continue\n",
    "    sum += n\n",
    "    a = a.replace(b[i],'/')\n",
    "print(sum+len(a.replace('/','')))"
   ]
  },
  {
   "cell_type": "code",
   "execution_count": 16,
   "metadata": {},
   "outputs": [
    {
     "name": "stdout",
     "output_type": "stream",
     "text": [
      "123123123123\n"
     ]
    }
   ],
   "source": [
    "a = '123123123123'\n",
    "b = a.replace('34','')\n",
    "print(b)"
   ]
  },
  {
   "cell_type": "code",
   "execution_count": null,
   "metadata": {},
   "outputs": [],
   "source": [
    "croa = ['c=', 'c-', 'dz=', 'd-', 'lj', 'nj', 's=', 'z=']\n",
    "S = input()\n",
    "\n",
    "for i in croa:\n",
    "    S = S.replace(i,'!')\n",
    "print(len(S))"
   ]
  }
 ],
 "metadata": {
  "kernelspec": {
   "display_name": "Python 3.9.13 64-bit",
   "language": "python",
   "name": "python3"
  },
  "language_info": {
   "codemirror_mode": {
    "name": "ipython",
    "version": 3
   },
   "file_extension": ".py",
   "mimetype": "text/x-python",
   "name": "python",
   "nbconvert_exporter": "python",
   "pygments_lexer": "ipython3",
   "version": "3.9.13"
  },
  "orig_nbformat": 4,
  "vscode": {
   "interpreter": {
    "hash": "cf92aa13fedf815d5c8dd192b8d835913fde3e8bc926b2a0ad6cc74ef2ba3ca2"
   }
  }
 },
 "nbformat": 4,
 "nbformat_minor": 2
}
