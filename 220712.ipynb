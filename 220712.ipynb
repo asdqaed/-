{
 "cells": [
  {
   "cell_type": "code",
   "execution_count": 3,
   "metadata": {},
   "outputs": [
    {
     "name": "stdout",
     "output_type": "stream",
     "text": [
      "36\n"
     ]
    }
   ],
   "source": [
    "a = input()\n",
    "b = ['ABC','DEF','GHI','JKL','MNO','PQRS','TUV'\n",
    ",'WXYZ']\n",
    "sum = 0\n",
    "\n",
    "for i in range(len(a)):\n",
    "    for j in range(8):\n",
    "        if a[i] in b[j]:\n",
    "            sum += j+3\n",
    "            break\n",
    "print(sum)"
   ]
  },
  {
   "cell_type": "code",
   "execution_count": 37,
   "metadata": {},
   "outputs": [
    {
     "name": "stdout",
     "output_type": "stream",
     "text": [
      "3\n"
     ]
    }
   ],
   "source": [
    "a = input()\n",
    "b = ['c=','c-','dz=','d-','lj','nj','s=','z=']\n",
    "sum = 0\n",
    "\n",
    "for i in range(8):\n",
    "    n = a.count(b[i])\n",
    "    if n == 0:\n",
    "        continue\n",
    "    sum += n\n",
    "    a = a.replace(b[i],'/')\n",
    "print(sum+len(a.replace('/','')))"
   ]
  },
  {
   "cell_type": "code",
   "execution_count": 55,
   "metadata": {},
   "outputs": [
    {
     "name": "stdout",
     "output_type": "stream",
     "text": [
      "12!12!12!12!\n"
     ]
    }
   ],
   "source": [
    "a = '123123123123'\n",
    "b = a.replace('3','!')\n",
    "print(b)"
   ]
  },
  {
   "cell_type": "code",
   "execution_count": null,
   "metadata": {},
   "outputs": [],
   "source": [
    "croa = ['c=', 'c-', 'dz=', 'd-', 'lj', 'nj', 's=', 'z=']\n",
    "S = input()\n",
    "\n",
    "for i in croa:\n",
    "    S = S.replace(i,'!')\n",
    "print(len(S))"
   ]
  },
  {
   "cell_type": "code",
   "execution_count": null,
   "metadata": {},
   "outputs": [],
   "source": [
    "n = int(input())\n",
    "a = ['a','b','c','d','e','f','g','h','i','j','k'\n",
    ",'l','m','n','o','p','q','r','s','t','u','v'\n",
    ",'w','x','y','z']\n",
    "for i in range(n):\n",
    "    \n"
   ]
  },
  {
   "cell_type": "code",
   "execution_count": null,
   "metadata": {},
   "outputs": [],
   "source": [
    "a = 'happy'\n",
    "aa = list(a)\n",
    "b = ['a','b','c','d','e','f','g','h','i','j','k'\n",
    ",'l','m','n','o','p','q','r','s','t','u','v'\n",
    ",'w','x','y','z']\n",
    "cnt = 0\n",
    "for i in range(26):\n",
    "    # for j in a:\n",
    "    #     if j == b[i]:\n",
    "    #         a.replace(j,'',1)\n",
    "    #         break        \n",
    "    n = a.count(b[i])\n",
    "    if 2 <= n:\n",
    "    a\n",
    "        \n"
   ]
  },
  {
   "cell_type": "code",
   "execution_count": 52,
   "metadata": {},
   "outputs": [
    {
     "name": "stdout",
     "output_type": "stream",
     "text": [
      "['b']\n"
     ]
    }
   ],
   "source": [
    "a = 'aba'\n",
    "print(list(filter(None,a.split('a'))))\n"
   ]
  },
  {
   "cell_type": "code",
   "execution_count": 50,
   "metadata": {},
   "outputs": [
    {
     "name": "stdout",
     "output_type": "stream",
     "text": [
      "3\n"
     ]
    }
   ],
   "source": [
    "n = int(input())\n",
    "a = ['a','b','c','d','e','f','g','h','i','j','k'\n",
    ",'l','m','n','o','p','q','r','s','t','u','v'\n",
    ",'w','x','y','z']\n",
    "cnt = 0\n",
    "for i in range(n):\n",
    "    s=input()\n",
    "    cnt += 1\n",
    "    for i in range(26):\n",
    "        if 2 < len(list(filter(None,s.split(a[i])))):\n",
    "            cnt -= 1\n",
    "            break\n",
    "print(cnt)\n",
    "    \n"
   ]
  },
  {
   "cell_type": "code",
   "execution_count": 67,
   "metadata": {},
   "outputs": [
    {
     "name": "stdout",
     "output_type": "stream",
     "text": [
      "1\n"
     ]
    }
   ],
   "source": [
    "n = int(input())\n",
    "a = ['a','b','c','d','e','f','g','h','i','j','k'\n",
    ",'l','m','n','o','p','q','r','s','t','u','v'\n",
    ",'w','x','y','z']\n",
    "cnt = 0\n",
    "for i in range(n):\n",
    "    s = input()\n",
    "    cnt += 1\n",
    "    for j in range(26):\n",
    "        s_n = s.count(a[j])\n",
    "        if s_n > 1:\n",
    "            ss = s #원본 유지\n",
    "            if '!'*s_n not in ss.replace(a[j],'!'):\n",
    "                cnt -= 1\n",
    "                break\n",
    "print(cnt)\n",
    "    \n"
   ]
  },
  {
   "cell_type": "code",
   "execution_count": null,
   "metadata": {},
   "outputs": [],
   "source": [
    "import sys\n",
    "\n",
    "n = int(sys.stdin.readline())\n",
    "a = ['a','b','c','d','e','f','g','h','i','j','k'\n",
    ",'l','m','n','o','p','q','r','s','t','u','v'\n",
    ",'w','x','y','z']\n",
    "cnt = 0\n",
    "for i in range(n):\n",
    "    s = sys.stdin.readline()\n",
    "    cnt += 1\n",
    "    for j in range(26):\n",
    "        s_n = s.count(a[j])\n",
    "        if s_n > 1:\n",
    "            ss = s #원본 유지\n",
    "            if '!'*s_n not in ss.replace(a[j],'!'):\n",
    "                cnt -= 1\n",
    "                break\n",
    "print(cnt)\n",
    "\n"
   ]
  },
  {
   "cell_type": "code",
   "execution_count": 68,
   "metadata": {},
   "outputs": [],
   "source": [
    "count = 0\n",
    "for i in range(int(input())) :\n",
    "    word = input()\n",
    "    if list(word) == sorted(word,key = word.find) :\n",
    "        count += 1\n",
    "print(count)"
   ]
  }
 ],
 "metadata": {
  "kernelspec": {
   "display_name": "Python 3.9.13 64-bit",
   "language": "python",
   "name": "python3"
  },
  "language_info": {
   "codemirror_mode": {
    "name": "ipython",
    "version": 3
   },
   "file_extension": ".py",
   "mimetype": "text/x-python",
   "name": "python",
   "nbconvert_exporter": "python",
   "pygments_lexer": "ipython3",
   "version": "3.9.13"
  },
  "orig_nbformat": 4,
  "vscode": {
   "interpreter": {
    "hash": "cf92aa13fedf815d5c8dd192b8d835913fde3e8bc926b2a0ad6cc74ef2ba3ca2"
   }
  }
 },
 "nbformat": 4,
 "nbformat_minor": 2
}
