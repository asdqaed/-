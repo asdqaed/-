{
 "cells": [
  {
   "cell_type": "code",
   "execution_count": 3,
   "metadata": {},
   "outputs": [
    {
     "name": "stdout",
     "output_type": "stream",
     "text": [
      "0\n",
      "3\n"
     ]
    }
   ],
   "source": [
    "global white \n",
    "global blue \n",
    "white = 0\n",
    "blue = 0\n",
    "def cut_array(a):\n",
    "    a_len = len(a)\n",
    "    a_cut = []\n",
    "    for i in range(4):\n",
    "        1\n",
    "def num_of_paper(a,n,cnt):\n",
    "    global white \n",
    "    global blue \n",
    "    isbreak = False\n",
    "    cut_count = 0\n",
    "    for _ in range(cnt):\n",
    "        for i in range(n):\n",
    "            for j in range(n):\n",
    "                if a[0][0] != a[i][j]:\n",
    "                    isbreak = True\n",
    "                    break\n",
    "            if isbreak:\n",
    "                num_of_paper(a,n,cnt*2)\n",
    "                break\n",
    "        if a[0][0] == 1:\n",
    "            blue += 1\n",
    "        else:\n",
    "            white += 1    \n",
    "\n",
    "n = int(input())\n",
    "a = [[0]*n for i in range(n)]\n",
    "for i in range(n):\n",
    "    a[i] = list(map(int,input().split()))\n",
    "num_of_paper(a,n,1)\n",
    "print(white)\n",
    "print(blue)\n",
    "# print(a)\n",
    "# while True:\n"
   ]
  },
  {
   "cell_type": "code",
   "execution_count": null,
   "metadata": {},
   "outputs": [],
   "source": [
    "global white \n",
    "global blue \n",
    "white = 0\n",
    "blue = 0\n",
    "def cut_array(a):\n",
    "    a_len = len(a)\n",
    "    a_cut = []\n",
    "    for i in range(4):\n",
    "        1\n",
    "def num_of_paper(a,n,cnt):\n",
    "    global white \n",
    "    global blue \n",
    "    isbreak = False\n",
    "    cut_count = 0\n",
    "    for _ in range(cnt):\n",
    "        for i in range(n):\n",
    "            for j in range(n):\n",
    "                if a[0][0] != a[i][j]:\n",
    "                    isbreak = True\n",
    "                    break\n",
    "            if isbreak:\n",
    "                num_of_paper(a,n,cnt*2)\n",
    "                break\n",
    "        sum = 0\n",
    "        for i in range(n):\n",
    "            sum += sum(a[i])\n",
    "        if a[0][0] == 1:\n",
    "            blue += 1\n",
    "        else:\n",
    "            white += 1    \n",
    "\n",
    "n = int(input())\n",
    "a = [[0]*n for i in range(n)]\n",
    "for i in range(n):\n",
    "    a[i] = list(map(int,input().split()))\n",
    "num_of_paper(a,n,1)\n",
    "print(white)\n",
    "print(blue)\n",
    "# print(a)\n",
    "# while True:\n"
   ]
  },
  {
   "cell_type": "code",
   "execution_count": 1,
   "metadata": {},
   "outputs": [
    {
     "name": "stdout",
     "output_type": "stream",
     "text": [
      "15\n",
      "30\n"
     ]
    }
   ],
   "source": [
    "a =[[1,2,3,4,5],[6,7,8,9]]\n",
    "print(sum(a[0]))\n",
    "print(sum(a[1]))"
   ]
  }
 ],
 "metadata": {
  "kernelspec": {
   "display_name": "Python 3.9.13 64-bit",
   "language": "python",
   "name": "python3"
  },
  "language_info": {
   "codemirror_mode": {
    "name": "ipython",
    "version": 3
   },
   "file_extension": ".py",
   "mimetype": "text/x-python",
   "name": "python",
   "nbconvert_exporter": "python",
   "pygments_lexer": "ipython3",
   "version": "3.9.13"
  },
  "orig_nbformat": 4,
  "vscode": {
   "interpreter": {
    "hash": "cf92aa13fedf815d5c8dd192b8d835913fde3e8bc926b2a0ad6cc74ef2ba3ca2"
   }
  }
 },
 "nbformat": 4,
 "nbformat_minor": 2
}
