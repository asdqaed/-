{
 "cells": [
  {
   "cell_type": "code",
   "execution_count": 9,
   "metadata": {},
   "outputs": [
    {
     "name": "stdout",
     "output_type": "stream",
     "text": [
      "{'6', '10', '-10', '3', '2'}\n",
      "['10', '9', '-5', '2', '3', '4', '5', '-10']\n",
      "1 0 0 1 1 0 0 1 \n"
     ]
    }
   ],
   "source": [
    "import sys\n",
    "#input = sys.stdin.readline\n",
    "\n",
    "N = int(input())\n",
    "s = set(input().split())\n",
    "result = ''\n",
    "M = int(input())\n",
    "q = list(input().split())\n",
    "for i in range(len(q)):\n",
    "    if q[i] in s:\n",
    "        result += '1 '\n",
    "    else:\n",
    "        result += '0 '    \n",
    "print(result)        "
   ]
  },
  {
   "cell_type": "code",
   "execution_count": null,
   "metadata": {},
   "outputs": [],
   "source": [
    "import sys\n",
    "input = sys.stdin.readline\n",
    "\n",
    "N = int(input())\n",
    "s = set(input().split())\n",
    "result = ''\n",
    "M = int(input())\n",
    "q = list(input().split())\n",
    "for i in range(len(q)):\n",
    "    if q[i] in s:\n",
    "        result += '1 '\n",
    "    else:\n",
    "        result += '0 '\n",
    "print(result)"
   ]
  }
 ],
 "metadata": {
  "kernelspec": {
   "display_name": "Python 3.9.13 64-bit",
   "language": "python",
   "name": "python3"
  },
  "language_info": {
   "codemirror_mode": {
    "name": "ipython",
    "version": 3
   },
   "file_extension": ".py",
   "mimetype": "text/x-python",
   "name": "python",
   "nbconvert_exporter": "python",
   "pygments_lexer": "ipython3",
   "version": "3.9.13"
  },
  "orig_nbformat": 4,
  "vscode": {
   "interpreter": {
    "hash": "cf92aa13fedf815d5c8dd192b8d835913fde3e8bc926b2a0ad6cc74ef2ba3ca2"
   }
  }
 },
 "nbformat": 4,
 "nbformat_minor": 2
}
