{
 "cells": [
  {
   "cell_type": "code",
   "execution_count": null,
   "metadata": {},
   "outputs": [],
   "source": [
    "import time\n",
    "\n",
    "\n",
    "start_time = time.perf_counter()\n",
    "\n",
    "# 실행 시간을 측정할 코드\n",
    "\n",
    "end_time = time.perf_counter()\n",
    "print(f\"time elapsed : {int(round((end_time - start_time) * 1000))}ms\")"
   ]
  },
  {
   "cell_type": "code",
   "execution_count": null,
   "metadata": {},
   "outputs": [],
   "source": [
    "import time\n",
    "\n",
    "\n",
    "a = str(input())\n",
    "start_time = time.perf_counter()\n",
    "\n",
    "# 실행 시간을 측정할 코드\n",
    "alen = len(a)\n",
    "alist = []\n",
    "for i in range(alen):\n",
    "    for j in range(alen - i):\n",
    "        alist.append(a[j:j+i+1])\n",
    "        \n",
    "print(len(set(alist)))\n",
    "\n",
    "end_time = time.perf_counter()\n",
    "print(f\"시간 : {int(round((end_time - start_time) * 1000))}ms\")"
   ]
  },
  {
   "cell_type": "code",
   "execution_count": null,
   "metadata": {},
   "outputs": [],
   "source": [
    "\n",
    "\n",
    "import time\n",
    "\n",
    "\n",
    "string = str(input())\n",
    "start_time = time.perf_counter()\n",
    "\n",
    "# 실행 시간을 측정할 코드\n",
    "\n",
    "strings = []\n",
    "\n",
    "for i in range(len(string)):\n",
    "    for j in range(len(string) - i):\n",
    "        strings.append(string[j:j+i+1])\n",
    "        \n",
    "print(len(set(strings)))\n",
    "end_time = time.perf_counter()\n",
    "print(f\"시간 : {int(round((end_time - start_time) * 1000))}ms\")"
   ]
  },
  {
   "cell_type": "code",
   "execution_count": null,
   "metadata": {},
   "outputs": [],
   "source": [
    "a = str(input())\n",
    "alen = len(a)\n",
    "\n",
    "cnt = 0\n",
    "\n",
    "for i in range(1,alen+1):\n",
    "    cnt += (2^i)-1\n",
    "alist = range(cnt)\n",
    "\n",
    "for i in range(alen):\n",
    "    for j in range(alen - i):\n",
    "        alist.append(a[j:j+i+1])\n",
    "        \n",
    "print(len(set(alist)))\n"
   ]
  },
  {
   "cell_type": "code",
   "execution_count": null,
   "metadata": {},
   "outputs": [],
   "source": [
    "a = str(input())\n",
    "alen = len(a)\n",
    "alist = []\n",
    "for i in range(alen):\n",
    "    for j in range(alen - i):\n",
    "        alist.append(a[j:j+i+1])\n",
    "print(len(set(alist)))"
   ]
  },
  {
   "cell_type": "code",
   "execution_count": null,
   "metadata": {},
   "outputs": [],
   "source": [
    "s=input()\n",
    "l=len(s)\n",
    "print(len({s[j:j+i]for j in range(l)for i in range(l)}))\n",
    "#숏코딩"
   ]
  },
  {
   "cell_type": "code",
   "execution_count": null,
   "metadata": {},
   "outputs": [],
   "source": [
    "A=input()\n",
    "print(sum([len(set([A[i:i+l] for i in range(len(A)-l+1)])) for l in range(1,len(A)+1)]))\n",
    "#메모리,속도 최고성능"
   ]
  },
  {
   "cell_type": "code",
   "execution_count": null,
   "metadata": {},
   "outputs": [],
   "source": [
    "import statistics\n",
    "\n",
    "N = int(input())\n",
    "a = [0]*N\n",
    "for i in range(N):\n",
    "    a[i] = int(input())\n",
    "b = [0]*(max(a)+1)\n",
    "for i in a:\n",
    "    b[i] += 1\n",
    "cnt = 0\n",
    "md = 0\n",
    "cnt2 = -1\n",
    "for i in b:\n",
    "    cnt2 += 1\n",
    "    if i == max(b):\n",
    "        if cnt == 1:\n",
    "            md = cnt2\n",
    "            break\n",
    "        md = cnt2\n",
    "        cnt += 1 \n",
    "\n",
    "print(round(statistics.mean(a)))\n",
    "print(int(statistics.median(a)))\n",
    "print(md)\n",
    "print(max(a)-min(a))"
   ]
  },
  {
   "cell_type": "code",
   "execution_count": null,
   "metadata": {},
   "outputs": [],
   "source": [
    "n = int(input())\n",
    "a = [0]*n\n",
    "a_dict = {}\n",
    "for i in range(n):\n",
    "    a[i] += int(input())\n",
    "    try:\n",
    "        a_dict[a[i]] += 1\n",
    "    except KeyError:\n",
    "        a_dict[a[i]] = 1\n",
    "\n",
    "print(round(statistics.mean(a)))\n",
    "print(int(statistics.median(a)))\n",
    "print(max(a_dict, key=a_dict.get))\n",
    "print(max(a)-min(a))"
   ]
  },
  {
   "cell_type": "code",
   "execution_count": 23,
   "metadata": {},
   "outputs": [
    {
     "name": "stdout",
     "output_type": "stream",
     "text": [
      "0\n",
      "0\n",
      "0\n",
      "1\n"
     ]
    }
   ],
   "source": [
    "import statistics\n",
    "import sys\n",
    "\n",
    "input = sys.stdin.readline\n",
    "\n",
    "n = int(input())\n",
    "a = [0]*n\n",
    "mode_num = []\n",
    "a_dict = {}\n",
    "for i in range(n):\n",
    "    a[i] += int(input())\n",
    "    try:\n",
    "        a_dict[a[i]] += 1\n",
    "    except KeyError:\n",
    "        a_dict[a[i]] = 1\n",
    "a_max = max(a_dict, key=a_dict.get)\n",
    "for key in a_dict:\n",
    "    if a_dict[key] == a_dict[a_max]:\n",
    "        mode_num.append(key)\n",
    "mode_num.sort()\n",
    "print(round(statistics.mean(a)))\n",
    "print(int(statistics.median(a)))\n",
    "if len(mode_num) > 1:\n",
    "    print(mode_num[1])\n",
    "else:\n",
    "    print(mode_num[0])\n",
    "print(max(a)-min(a))"
   ]
  },
  {
   "cell_type": "code",
   "execution_count": null,
   "metadata": {},
   "outputs": [],
   "source": [
    "import sys\n",
    "from collections import Counter\n",
    "r = sys.stdin.readline\n",
    "\n",
    "N = int(r())\n",
    "inputlist = [ int(r()) for _ in range(N)]\n",
    "inputlist.sort()\n",
    "\n",
    "cntlist = Counter(inputlist).most_common()\n",
    "\n",
    "print(round(sum(inputlist)/N))\n",
    "print(inputlist[N//2])\n",
    "\n",
    "if len(cntlist) == 1:\n",
    "    print(cntlist[0][0])\n",
    "elif cntlist[0][1] == cntlist[1][1]:\n",
    "    print(cntlist[1][0])\n",
    "else:\n",
    "    print(cntlist[0][0])\n",
    "\n",
    "print(inputlist[-1]-inputlist[0])\n",
    "#from collections import Counter 사용"
   ]
  },
  {
   "cell_type": "code",
   "execution_count": 29,
   "metadata": {},
   "outputs": [
    {
     "name": "stdout",
     "output_type": "stream",
     "text": [
      "965310000\n"
     ]
    }
   ],
   "source": [
    "n = input()\n",
    "a = []\n",
    "\n",
    "for i in range(len(n)):\n",
    "    a.append(int(n[i]))\n",
    "a.sort(reverse=True)\n",
    "\n",
    "result = ''\n",
    "for i in a:\n",
    "    result += str(i)\n",
    "print(result)"
   ]
  },
  {
   "cell_type": "code",
   "execution_count": null,
   "metadata": {},
   "outputs": [],
   "source": [
    "nlist = list(input())\n",
    "nlist.sort(reverse= True)\n",
    "print(*nlist, sep=\"\")"
   ]
  }
 ],
 "metadata": {
  "kernelspec": {
   "display_name": "Python 3.9.13 64-bit",
   "language": "python",
   "name": "python3"
  },
  "language_info": {
   "codemirror_mode": {
    "name": "ipython",
    "version": 3
   },
   "file_extension": ".py",
   "mimetype": "text/x-python",
   "name": "python",
   "nbconvert_exporter": "python",
   "pygments_lexer": "ipython3",
   "version": "3.9.13"
  },
  "orig_nbformat": 4,
  "vscode": {
   "interpreter": {
    "hash": "cf92aa13fedf815d5c8dd192b8d835913fde3e8bc926b2a0ad6cc74ef2ba3ca2"
   }
  }
 },
 "nbformat": 4,
 "nbformat_minor": 2
}
