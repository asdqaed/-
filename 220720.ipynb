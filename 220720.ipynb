{
 "cells": [
  {
   "cell_type": "code",
   "execution_count": 3,
   "metadata": {},
   "outputs": [
    {
     "name": "stdout",
     "output_type": "stream",
     "text": [
      "1\n",
      "2\n",
      "3\n",
      "4\n",
      "5\n"
     ]
    }
   ],
   "source": [
    "a = []\n",
    "temp = 0\n",
    "N = int(input())\n",
    "for i in range(N):\n",
    "    a.append(int(input()))\n",
    "for i in range(N-1):\n",
    "    for j in range(i,N):\n",
    "        if a[i]>a[j]:\n",
    "            temp = a[i]\n",
    "            a[i] = a[j]\n",
    "            a[j] = temp\n",
    "for i in a:\n",
    "    print(i)"
   ]
  },
  {
   "cell_type": "code",
   "execution_count": null,
   "metadata": {},
   "outputs": [],
   "source": [
    "#내꺼보다 느리지만 간결?함\n",
    "n=int(input())\n",
    "nums=[int(input()) for i in range(n)]\n",
    "\n",
    "for i in range(1,n):\n",
    "    for j in range(n-1):\n",
    "        if nums[j]>nums[j+1]:\n",
    "            tmp=nums[j+1]\n",
    "            nums[j+1]=nums[j]\n",
    "            nums[j]=tmp\n",
    "\n",
    "for i in nums:\n",
    "    print(i)"
   ]
  }
 ],
 "metadata": {
  "kernelspec": {
   "display_name": "Python 3.9.13 64-bit",
   "language": "python",
   "name": "python3"
  },
  "language_info": {
   "codemirror_mode": {
    "name": "ipython",
    "version": 3
   },
   "file_extension": ".py",
   "mimetype": "text/x-python",
   "name": "python",
   "nbconvert_exporter": "python",
   "pygments_lexer": "ipython3",
   "version": "3.9.13"
  },
  "orig_nbformat": 4,
  "vscode": {
   "interpreter": {
    "hash": "cf92aa13fedf815d5c8dd192b8d835913fde3e8bc926b2a0ad6cc74ef2ba3ca2"
   }
  }
 },
 "nbformat": 4,
 "nbformat_minor": 2
}
