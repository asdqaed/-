{
 "cells": [
  {
   "cell_type": "code",
   "execution_count": 1,
   "metadata": {},
   "outputs": [
    {
     "name": "stdout",
     "output_type": "stream",
     "text": [
      "10\n",
      "9\n",
      "7\n",
      "55\n",
      "30\n"
     ]
    }
   ],
   "source": [
    "n = int(input())\n",
    "for i in range(n):\n",
    "    a = input()\n",
    "    sum = 0\n",
    "    score = 0\n",
    "    for j in range(len(a)):\n",
    "        if a[j]=='O':\n",
    "            score += 1\n",
    "            sum += score\n",
    "        else:\n",
    "            score = 0\n",
    "    print(sum)"
   ]
  },
  {
   "cell_type": "code",
   "execution_count": 2,
   "metadata": {},
   "outputs": [
    {
     "ename": "ValueError",
     "evalue": "Format specifier missing precision",
     "output_type": "error",
     "traceback": [
      "\u001b[1;31m---------------------------------------------------------------------------\u001b[0m",
      "\u001b[1;31mValueError\u001b[0m                                Traceback (most recent call last)",
      "\u001b[1;32mc:\\Users\\User\\jupter_notebook\\코딩테스트\\coding-test\\220708.ipynb Cell 2'\u001b[0m in \u001b[0;36m<cell line: 2>\u001b[1;34m()\u001b[0m\n\u001b[0;32m      <a href='vscode-notebook-cell:/c%3A/Users/User/jupter_notebook/%EC%BD%94%EB%94%A9%ED%85%8C%EC%8A%A4%ED%8A%B8/coding-test/220708.ipynb#ch0000001?line=8'>9</a>\u001b[0m     \u001b[39mif\u001b[39;00m a[i]\u001b[39m>\u001b[39mavr:\n\u001b[0;32m     <a href='vscode-notebook-cell:/c%3A/Users/User/jupter_notebook/%EC%BD%94%EB%94%A9%ED%85%8C%EC%8A%A4%ED%8A%B8/coding-test/220708.ipynb#ch0000001?line=9'>10</a>\u001b[0m         cnt \u001b[39m+\u001b[39m\u001b[39m=\u001b[39m \u001b[39m1\u001b[39m\n\u001b[1;32m---> <a href='vscode-notebook-cell:/c%3A/Users/User/jupter_notebook/%EC%BD%94%EB%94%A9%ED%85%8C%EC%8A%A4%ED%8A%B8/coding-test/220708.ipynb#ch0000001?line=10'>11</a>\u001b[0m \u001b[39mprint\u001b[39m(\u001b[39m'\u001b[39;49m\u001b[39m{\u001b[39;49m\u001b[39m:.f3}\u001b[39;49m\u001b[39m%\u001b[39;49m\u001b[39m'\u001b[39;49m\u001b[39m.\u001b[39;49mformat(cnt\u001b[39m/\u001b[39;49mn))\n",
      "\u001b[1;31mValueError\u001b[0m: Format specifier missing precision"
     ]
    }
   ],
   "source": [
    "c = int(input())\n",
    "for i in range(c):\n",
    "    a = list(map(int,input().split()))\n",
    "    n = a[0]\n",
    "    del a[0]\n",
    "    avr = sum(a)/n\n",
    "    cnt = 0\n",
    "    for i in range(len(a)):\n",
    "        if a[i]>avr:\n",
    "            cnt += 1\n",
    "    print('{:.f3}%'.format(cnt/n))\n"
   ]
  },
  {
   "cell_type": "code",
   "execution_count": 8,
   "metadata": {},
   "outputs": [
    {
     "name": "stdout",
     "output_type": "stream",
     "text": [
      "hamster : 12.346\n",
      "12.346\n"
     ]
    }
   ],
   "source": [
    "print(f'hamster : {12.3456789:.3f}')\n",
    "n = 12.3456789\n",
    "print('%.3f'%n)\n"
   ]
  },
  {
   "cell_type": "code",
   "execution_count": 1,
   "metadata": {},
   "outputs": [
    {
     "name": "stdout",
     "output_type": "stream",
     "text": [
      "70.0\n",
      "350\n",
      "2\n",
      "5\n",
      "40.000%\n"
     ]
    },
    {
     "ename": "ValueError",
     "evalue": "invalid literal for int() with base 10: 'a'",
     "output_type": "error",
     "traceback": [
      "\u001b[1;31m---------------------------------------------------------------------------\u001b[0m",
      "\u001b[1;31mValueError\u001b[0m                                Traceback (most recent call last)",
      "\u001b[1;32mc:\\Users\\User\\jupter_notebook\\코딩테스트\\coding-test\\220708.ipynb Cell 1'\u001b[0m in \u001b[0;36m<cell line: 2>\u001b[1;34m()\u001b[0m\n\u001b[0;32m      <a href='vscode-notebook-cell:/c%3A/Users/User/jupter_notebook/%EC%BD%94%EB%94%A9%ED%85%8C%EC%8A%A4%ED%8A%B8/coding-test/220708.ipynb#ch0000000?line=0'>1</a>\u001b[0m c \u001b[39m=\u001b[39m \u001b[39mint\u001b[39m(\u001b[39minput\u001b[39m())\n\u001b[0;32m      <a href='vscode-notebook-cell:/c%3A/Users/User/jupter_notebook/%EC%BD%94%EB%94%A9%ED%85%8C%EC%8A%A4%ED%8A%B8/coding-test/220708.ipynb#ch0000000?line=1'>2</a>\u001b[0m \u001b[39mfor\u001b[39;00m i \u001b[39min\u001b[39;00m \u001b[39mrange\u001b[39m(c):\n\u001b[1;32m----> <a href='vscode-notebook-cell:/c%3A/Users/User/jupter_notebook/%EC%BD%94%EB%94%A9%ED%85%8C%EC%8A%A4%ED%8A%B8/coding-test/220708.ipynb#ch0000000?line=2'>3</a>\u001b[0m     a \u001b[39m=\u001b[39m \u001b[39mlist\u001b[39;49m(\u001b[39mmap\u001b[39;49m(\u001b[39mint\u001b[39;49m,\u001b[39minput\u001b[39;49m()\u001b[39m.\u001b[39;49msplit()))\n\u001b[0;32m      <a href='vscode-notebook-cell:/c%3A/Users/User/jupter_notebook/%EC%BD%94%EB%94%A9%ED%85%8C%EC%8A%A4%ED%8A%B8/coding-test/220708.ipynb#ch0000000?line=3'>4</a>\u001b[0m     n \u001b[39m=\u001b[39m a[\u001b[39m0\u001b[39m]\n\u001b[0;32m      <a href='vscode-notebook-cell:/c%3A/Users/User/jupter_notebook/%EC%BD%94%EB%94%A9%ED%85%8C%EC%8A%A4%ED%8A%B8/coding-test/220708.ipynb#ch0000000?line=4'>5</a>\u001b[0m     \u001b[39mdel\u001b[39;00m a[\u001b[39m0\u001b[39m]\n",
      "\u001b[1;31mValueError\u001b[0m: invalid literal for int() with base 10: 'a'"
     ]
    }
   ],
   "source": [
    "c = int(input())\n",
    "for i in range(c):\n",
    "    a = list(map(int,input().split()))\n",
    "    n = a[0]\n",
    "    del a[0]\n",
    "    avr = sum(a)/n\n",
    "    cnt = 0\n",
    "    for i in range(len(a)):\n",
    "        if a[i]>avr:\n",
    "            cnt += 1\n",
    "    print(str(format((cnt/n)*100,\".3f\"))+'%')"
   ]
  }
 ],
 "metadata": {
  "kernelspec": {
   "display_name": "Python 3.9.13 64-bit",
   "language": "python",
   "name": "python3"
  },
  "language_info": {
   "codemirror_mode": {
    "name": "ipython",
    "version": 3
   },
   "file_extension": ".py",
   "mimetype": "text/x-python",
   "name": "python",
   "nbconvert_exporter": "python",
   "pygments_lexer": "ipython3",
   "version": "3.9.13"
  },
  "orig_nbformat": 4,
  "vscode": {
   "interpreter": {
    "hash": "cf92aa13fedf815d5c8dd192b8d835913fde3e8bc926b2a0ad6cc74ef2ba3ca2"
   }
  }
 },
 "nbformat": 4,
 "nbformat_minor": 2
}
