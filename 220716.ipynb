{
 "cells": [
  {
   "cell_type": "code",
   "execution_count": 9,
   "metadata": {},
   "outputs": [
    {
     "name": "stdout",
     "output_type": "stream",
     "text": [
      "402\n",
      "1203\n"
     ]
    }
   ],
   "source": [
    "T = int(input())\n",
    "for i in range(T):\n",
    "    H,W,N = map(int,input().split())\n",
    "    h=N//H\n",
    "    w=N%H\n",
    "    print(w*100+h+1)"
   ]
  },
  {
   "cell_type": "code",
   "execution_count": 25,
   "metadata": {},
   "outputs": [
    {
     "name": "stdout",
     "output_type": "stream",
     "text": [
      "1\n",
      "301\n"
     ]
    }
   ],
   "source": [
    "for i in range(int(input())):\n",
    "    H,W,N = map(int,input().split())\n",
    "    h = N%H\n",
    "    w = N//H\n",
    "    if h == 0:\n",
    "        print(H*100+w)\n",
    "    else:\n",
    "        print(h*100+w+1)"
   ]
  },
  {
   "cell_type": "code",
   "execution_count": 29,
   "metadata": {},
   "outputs": [],
   "source": [
    "a = [1,2,3,4,5,6,7,8,9,10,11,12,13,14] \n",
    "\n",
    "for i in range(int(input())):\n",
    "    k = int(input())\n",
    "    n = int(input())\n",
    "    b = []\n",
    "    for j1 in range(k):\n",
    "        for j2 in range(n):\n",
    "            break\n"
   ]
  },
  {
   "cell_type": "code",
   "execution_count": 27,
   "metadata": {},
   "outputs": [
    {
     "name": "stdout",
     "output_type": "stream",
     "text": [
      "167960\n"
     ]
    }
   ],
   "source": [
    "t = int(input())\n",
    "\n",
    "for _ in range(t):  \n",
    "    floor = int(input())  # 층\n",
    "    num = int(input())  # 호\n",
    "    f0 = [x for x in range(1, num+1)]  # 0층 리스트\n",
    "    for k in range(floor):  # 층 수 만큼 반복\n",
    "        for i in range(1, num):  # 1 ~ n-1까지 (인덱스로 사용)\n",
    "            f0[i] += f0[i-1]  # 층별 각 호실의 사람 수를 변경\n",
    "    print(f0[-1])  # 가장 마지막 수 출력"
   ]
  },
  {
   "cell_type": "code",
   "execution_count": 33,
   "metadata": {},
   "outputs": [
    {
     "name": "stdout",
     "output_type": "stream",
     "text": [
      "[1, 2, 3, 4, 5, 6, 7, 8, 9, 10, 11, 12, 13, 14, 15, 16, 17, 18, 19]\n"
     ]
    }
   ],
   "source": [
    "a = [i for i in range(1,20)]\n",
    "print(a)"
   ]
  },
  {
   "cell_type": "code",
   "execution_count": 39,
   "metadata": {},
   "outputs": [
    {
     "name": "stdout",
     "output_type": "stream",
     "text": [
      "167960\n"
     ]
    }
   ],
   "source": [
    "for i in range(int(input())):\n",
    "    k = int(input())\n",
    "    n = int(input())\n",
    "    a = [a for a in range(1,n+1)]\n",
    "    for j1 in range(k):\n",
    "        for j2 in range(1,n):\n",
    "            a[j2] += a[j2-1]\n",
    "    print(a[n-1])"
   ]
  },
  {
   "cell_type": "code",
   "execution_count": 107,
   "metadata": {},
   "outputs": [
    {
     "name": "stdout",
     "output_type": "stream",
     "text": [
      "-1\n"
     ]
    }
   ],
   "source": [
    "N = int(input())\n",
    "if  N%5 == 0:\n",
    "    print(int(N/5))\n",
    "elif (N%5)%3 == 0 or ((N-3)%5)%3 == 0:\n",
    "    print(int(N/5)+1)\n",
    "elif N%3 == 0 or ((N-5)%3)%5 == 0:\n",
    "    print(int(N/3))\n",
    "else:\n",
    "    print(-1)"
   ]
  },
  {
   "cell_type": "code",
   "execution_count": null,
   "metadata": {},
   "outputs": [],
   "source": [
    "N = int(input())\n",
    "sum = 0\n",
    "while N >= 0:\n",
    "    if N % 5 == 0:\n",
    "        sum += (N//5)\n",
    "        print(sum)\n",
    "        break\n",
    "    N -= 3\n",
    "    sum += 1\n",
    "else:\n",
    "    print(-1)"
   ]
  },
  {
   "cell_type": "code",
   "execution_count": 113,
   "metadata": {},
   "outputs": [
    {
     "name": "stdout",
     "output_type": "stream",
     "text": [
      "18446744073709551615\n"
     ]
    }
   ],
   "source": [
    "a,b = list(input().split())\n",
    "print(int(a)+int(b))"
   ]
  },
  {
   "cell_type": "code",
   "execution_count": null,
   "metadata": {},
   "outputs": [],
   "source": [
    "a,b = map(int, input().split())\n",
    "print (a+b)\n",
    "#이게 더 성능 좋음 위에 72ms 이거 68ms"
   ]
  },
  {
   "cell_type": "code",
   "execution_count": 130,
   "metadata": {},
   "outputs": [
    {
     "name": "stdout",
     "output_type": "stream",
     "text": [
      "0\n",
      "0\n",
      "1\n",
      "0\n",
      "0\n",
      "1\n",
      "2\n",
      "1\n",
      "0\n",
      "0\n",
      "1\n",
      "1\n",
      "3\n",
      "2\n",
      "1\n",
      "0\n",
      "3\n"
     ]
    }
   ],
   "source": [
    "sum = 0\n",
    "N = int(input())\n",
    "a = list(map(int,input().split()))\n",
    "for j1 in a:\n",
    "    cnt = 0\n",
    "    for j2 in range(1,j1+1):\n",
    "        if j1%j2 == 0:\n",
    "            cnt += 1\n",
    "        if cnt > 2:\n",
    "            break    \n",
    "    if cnt == 2:\n",
    "        sum += 1\n",
    "print(sum)"
   ]
  }
 ],
 "metadata": {
  "kernelspec": {
   "display_name": "Python 3.9.13 64-bit",
   "language": "python",
   "name": "python3"
  },
  "language_info": {
   "codemirror_mode": {
    "name": "ipython",
    "version": 3
   },
   "file_extension": ".py",
   "mimetype": "text/x-python",
   "name": "python",
   "nbconvert_exporter": "python",
   "pygments_lexer": "ipython3",
   "version": "3.9.13"
  },
  "orig_nbformat": 4,
  "vscode": {
   "interpreter": {
    "hash": "cf92aa13fedf815d5c8dd192b8d835913fde3e8bc926b2a0ad6cc74ef2ba3ca2"
   }
  }
 },
 "nbformat": 4,
 "nbformat_minor": 2
}
