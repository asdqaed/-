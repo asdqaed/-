{
 "cells": [
  {
   "cell_type": "code",
   "execution_count": 15,
   "metadata": {},
   "outputs": [
    {
     "name": "stdout",
     "output_type": "stream",
     "text": [
      "0\n"
     ]
    }
   ],
   "source": [
    "import sys\n",
    "\n",
    "N = int(sys.stdin.readline())\n",
    "\n",
    "result = []\n",
    "\n",
    "for i in range(N):\n",
    "    i_str = str(i)\n",
    "    i_len = len(i_str)\n",
    "    i_num = [0]*i_len\n",
    "    for j in range(i_len):\n",
    "        i_num[j] = int(i_str[j])\n",
    "    if i+sum(i_num) == N:\n",
    "        result.append(i)\n",
    "if len(result) == 0:\n",
    "    print(0)\n",
    "else:\n",
    "    print(result[0])    \n",
    "\n",
    "# 내 컴퓨터는 10.2초 백준은 2424ms....    "
   ]
  },
  {
   "cell_type": "code",
   "execution_count": null,
   "metadata": {},
   "outputs": [],
   "source": [
    "target = int(input())\n",
    " \n",
    "for i in range(target):\n",
    "    temp = sum(map(int, str(i)))\n",
    "    result = i + temp\n",
    "    if result == target:\n",
    "        print(i)\n",
    "        break\n",
    "else:\n",
    "    print(0)\n",
    "\n",
    "# 시간 1288ms 간결하고 빠름 "
   ]
  }
 ],
 "metadata": {
  "kernelspec": {
   "display_name": "Python 3.9.13 64-bit",
   "language": "python",
   "name": "python3"
  },
  "language_info": {
   "codemirror_mode": {
    "name": "ipython",
    "version": 3
   },
   "file_extension": ".py",
   "mimetype": "text/x-python",
   "name": "python",
   "nbconvert_exporter": "python",
   "pygments_lexer": "ipython3",
   "version": "3.9.13"
  },
  "orig_nbformat": 4,
  "vscode": {
   "interpreter": {
    "hash": "cf92aa13fedf815d5c8dd192b8d835913fde3e8bc926b2a0ad6cc74ef2ba3ca2"
   }
  }
 },
 "nbformat": 4,
 "nbformat_minor": 2
}
