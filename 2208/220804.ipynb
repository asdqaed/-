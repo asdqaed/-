{
 "cells": [
  {
   "cell_type": "code",
   "execution_count": 1,
   "metadata": {},
   "outputs": [
    {
     "name": "stdout",
     "output_type": "stream",
     "text": [
      "8\n"
     ]
    }
   ],
   "source": [
    "print(len(input()))"
   ]
  },
  {
   "cell_type": "code",
   "execution_count": 10,
   "metadata": {},
   "outputs": [
    {
     "name": "stdout",
     "output_type": "stream",
     "text": [
      "wRONGaNSWER\n"
     ]
    }
   ],
   "source": [
    "a = ['a','b','c','d','e','f','g','h','i','j','k'\n",
    ",'l','m','n','o','p','q','r','s','t','u','v'\n",
    ",'w','x','y','z']\n",
    "b = ['A','B','C','D','E','F','G','H','I','J','K'\n",
    ",'L','M','N','O','P','Q','R','S','T','U','V'\n",
    ",'W','X','Y','Z']\n",
    "\n",
    "s = input().strip()\n",
    "answer = ''\n",
    "for i in range(len(s)):\n",
    "    for j in range(25):\n",
    "        if s[i] == a[j]:\n",
    "            answer += b[j]\n",
    "            break\n",
    "        elif s[i] == b[j]:\n",
    "            answer += a[j]\n",
    "            break\n",
    "print(answer) "
   ]
  },
  {
   "cell_type": "code",
   "execution_count": 3,
   "metadata": {},
   "outputs": [
    {
     "name": "stdout",
     "output_type": "stream",
     "text": [
      "26\n"
     ]
    }
   ],
   "source": [
    "word = input()\n",
    "\n",
    "for char in word:\n",
    "    if char.islower():\n",
    "        print(char.upper(), end=\"\")\n",
    "    else:\n",
    "        print(char.lower(), end=\"\")"
   ]
  },
  {
   "cell_type": "code",
   "execution_count": 12,
   "metadata": {},
   "outputs": [
    {
     "name": "stdout",
     "output_type": "stream",
     "text": [
      "0.7\n"
     ]
    }
   ],
   "source": [
    "a = {'A+':4.3,'A0':4.0,'A-':3.7,\n",
    "'B+':3.3,'B0':3.0,'B-':2.7,\n",
    "'C+':2.3,'C0':2.0,'C-':1.7,\n",
    "'D+':1.3,'D0':1.0,'D-':0.7,\n",
    "'F':0.0}\n",
    "print(a[input()])"
   ]
  },
  {
   "cell_type": "code",
   "execution_count": null,
   "metadata": {},
   "outputs": [],
   "source": [
    "for _ in range(100):\n",
    "    try:\n",
    "        print(input())\n",
    "    except EOFError:\n",
    "        break"
   ]
  },
  {
   "cell_type": "code",
   "execution_count": null,
   "metadata": {},
   "outputs": [],
   "source": []
  }
 ],
 "metadata": {
  "kernelspec": {
   "display_name": "Python 3.9.13 64-bit",
   "language": "python",
   "name": "python3"
  },
  "language_info": {
   "codemirror_mode": {
    "name": "ipython",
    "version": 3
   },
   "file_extension": ".py",
   "mimetype": "text/x-python",
   "name": "python",
   "nbconvert_exporter": "python",
   "pygments_lexer": "ipython3",
   "version": "3.9.13"
  },
  "orig_nbformat": 4,
  "vscode": {
   "interpreter": {
    "hash": "cf92aa13fedf815d5c8dd192b8d835913fde3e8bc926b2a0ad6cc74ef2ba3ca2"
   }
  }
 },
 "nbformat": 4,
 "nbformat_minor": 2
}
