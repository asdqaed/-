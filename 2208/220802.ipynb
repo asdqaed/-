{
 "cells": [
  {
   "cell_type": "code",
   "execution_count": null,
   "metadata": {},
   "outputs": [],
   "source": [
    "\n",
    "import sys\n",
    "input = sys.stdin.readline\n",
    "n = int(input())\n",
    "a = []\n",
    "command = []\n",
    "temp = 0\n",
    "for i in range(n):\n",
    "    command = list(input().split())\n",
    "    if command[0] == 'push_front':\n",
    "        a.append(command[1])\n",
    "    elif command[0] == 'push_back':\n",
    "        a.insert(0,command[1])\n",
    "    elif command[0] == 'pop_front':\n",
    "        if len(a) == 0:\n",
    "            print(-1)\n",
    "        else:\n",
    "            print(a.pop())\n",
    "    elif command[0] == 'pop_back':\n",
    "        if len(a) == 0:\n",
    "            print(-1)\n",
    "        else:\n",
    "            print(a.pop(0))\n",
    "    elif command[0] == 'size':\n",
    "        print(len(a))\n",
    "    elif command[0] == 'empty':\n",
    "        if len(a) == 0:\n",
    "            print(1)\n",
    "        else:\n",
    "            print(0)\n",
    "    elif command[0] == 'front':\n",
    "        if len(a) == 0:\n",
    "            print(-1)\n",
    "        else:\n",
    "            temp = a.pop()\n",
    "            print(temp)\n",
    "            a.append(temp)\n",
    "    else:\n",
    "        if len(a) == 0:\n",
    "            print(-1)\n",
    "        else:\n",
    "            print(a[0])"
   ]
  },
  {
   "cell_type": "code",
   "execution_count": null,
   "metadata": {},
   "outputs": [],
   "source": [
    "from math import factorial\n",
    "n, k = map(int, input().split())\n",
    "a = factorial(n) // (factorial(k) * factorial(n - k))\n",
    "print(a)"
   ]
  },
  {
   "cell_type": "code",
   "execution_count": null,
   "metadata": {},
   "outputs": [],
   "source": [
    "n,k = map(int,input().split())\n",
    "a = [i for i in range(1,n+1)]\n",
    "b = []\n",
    "s = ''\n",
    "for i in range(n-k+1):\n",
    "    b.append(a.pop(k-1))\n",
    "    for j in range(k-1):\n",
    "        a.append(a.pop(0))\n",
    "        print(a)\n",
    "# for i in range(k-1):\n",
    "#     b.append(a[i])\n",
    "b = b+a\n",
    "print(b)    \n",
    "s += '<'\n",
    "for i in range(n-1):\n",
    "    s += str(b[i])+', '\n",
    "s += str(b.pop())+'>'\n",
    "print(s)"
   ]
  },
  {
   "cell_type": "code",
   "execution_count": null,
   "metadata": {},
   "outputs": [],
   "source": [
    "a = [i for i in range(1,10+1)]\n",
    "print(a)"
   ]
  },
  {
   "cell_type": "code",
   "execution_count": null,
   "metadata": {},
   "outputs": [],
   "source": [
    "n,k = map(int,input().split())\n",
    "a = [i for i in range(1,n+1)]\n",
    "b = []\n",
    "s = ''\n",
    "for _ in range(n-2):\n",
    "    b.append(a.pop(2))\n",
    "    a.append(a.pop(0))\n",
    "    a.append(a.pop(0))\n",
    "b.append(a[0])\n",
    "b.append(a[1])\n",
    "s += '<'\n",
    "for i in range(n-1):\n",
    "    s += str(b[i])+', '\n",
    "s += str(b.pop())+'>'\n",
    "print(s)"
   ]
  },
  {
   "cell_type": "code",
   "execution_count": null,
   "metadata": {},
   "outputs": [],
   "source": [
    "n,k = map(int,input().split())\n",
    "a = [i for i in range(1,n+1)]\n",
    "b = []\n",
    "s = ''\n",
    "for i in range(n-k+1):\n",
    "    b.append(a.pop(k-1))\n",
    "    for j in range(k-1):\n",
    "        a.append(a.pop(0))\n",
    "        print(a)\n",
    "b = b + a\n",
    "print(a)\n",
    "s += '<'\n",
    "for i in range(n-1):\n",
    "    s += str(b[i])+', '\n",
    "s += str(b.pop())+'>'\n",
    "print(s)"
   ]
  },
  {
   "cell_type": "code",
   "execution_count": null,
   "metadata": {},
   "outputs": [],
   "source": [
    "# import sys\n",
    "from collections import deque\n",
    "\n",
    "# NK = sys.stdin.readline().strip().split()\n",
    "NK = input().strip().split()\n",
    "\n",
    "list = deque([])\n",
    "result = []\n",
    "\n",
    "for nk in range(1, int(NK[0])+1):\n",
    "    list.appendleft(nk)\n",
    "\n",
    "for _ in range(len(list)):\n",
    "    list.rotate(int(NK[1]))\n",
    "    result.append(list.popleft())\n",
    "\n",
    "print('<'+', '.join(map(str, result))+'>')"
   ]
  }
 ],
 "metadata": {
  "kernelspec": {
   "display_name": "Python 3.9.13 64-bit",
   "language": "python",
   "name": "python3"
  },
  "language_info": {
   "codemirror_mode": {
    "name": "ipython",
    "version": 3
   },
   "file_extension": ".py",
   "mimetype": "text/x-python",
   "name": "python",
   "nbconvert_exporter": "python",
   "pygments_lexer": "ipython3",
   "version": "3.9.13"
  },
  "orig_nbformat": 4,
  "vscode": {
   "interpreter": {
    "hash": "cf92aa13fedf815d5c8dd192b8d835913fde3e8bc926b2a0ad6cc74ef2ba3ca2"
   }
  }
 },
 "nbformat": 4,
 "nbformat_minor": 2
}
