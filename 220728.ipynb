{
 "cells": [
  {
   "cell_type": "code",
   "execution_count": null,
   "metadata": {},
   "outputs": [],
   "source": [
    "import sys\n",
    "input = sys.stdin.readline\n",
    "\n",
    "n = int(input())\n",
    "n_list = [[0]]*n\n",
    "for i in range(n):\n",
    "    a,b = map(int,input().split())\n",
    "    n_list[i] = [a,b]\n",
    "n_list.sort(key=lambda x: (x[0], x[1]))\n",
    "for i in  n_list:\n",
    "    s = ''\n",
    "    for j in i:\n",
    "        s += str(j)+' '\n",
    "    print(s)"
   ]
  },
  {
   "cell_type": "code",
   "execution_count": null,
   "metadata": {},
   "outputs": [],
   "source": [
    "import sys\n",
    "input = sys.stdin.readline\n",
    "\n",
    "n = int(input())\n",
    "n_list = [[0]]*n\n",
    "for i in range(n):\n",
    "    a,b = map(int,input().split())\n",
    "    n_list[i] = [a,b]\n",
    "n_list.sort(key=lambda x: (x[1], x[0]))\n",
    "for i in  n_list:\n",
    "    s = ''\n",
    "    for j in i:\n",
    "        s += str(j)+' '\n",
    "    print(s)"
   ]
  },
  {
   "cell_type": "code",
   "execution_count": null,
   "metadata": {},
   "outputs": [],
   "source": [
    "import sys\n",
    "input = sys.stdin.readline\n",
    "\n",
    "N = int(input())\n",
    "n_list = ['']*N\n",
    "for i in range(N):\n",
    "    n_list[i] = input()\n",
    "n_list = list(set(n_list))\n",
    "n_list.sort()\n",
    "n_list.sort(key=lambda x: len(x))\n",
    "for i in n_list:\n",
    "    print(i.strip())"
   ]
  },
  {
   "cell_type": "code",
   "execution_count": null,
   "metadata": {},
   "outputs": [],
   "source": [
    "import sys\n",
    "input = sys.stdin.readline\n",
    "\n",
    "N = int(input())\n",
    "n_list = [['']]*N\n",
    "for i in range(N):\n",
    "    a,b = map(str,input().split())\n",
    "    n_list[i] = [int(a),b]\n",
    "n_list.sort(key=lambda x: x[0])\n",
    "for i in  n_list:\n",
    "    s = ''\n",
    "    for j in i:\n",
    "        s += str(j)+' '\n",
    "    print(s)"
   ]
  },
  {
   "cell_type": "code",
   "execution_count": 10,
   "metadata": {},
   "outputs": [
    {
     "name": "stdout",
     "output_type": "stream",
     "text": [
      "mixed\n"
     ]
    }
   ],
   "source": [
    "s = input()\n",
    "ascending = '1 2 3 4 5 6 7 8'\n",
    "descending = '8 7 6 5 4 3 2 1'\n",
    "if s == ascending:\n",
    "    print('ascending')\n",
    "elif s == descending:\n",
    "    print('descending')\n",
    "else:\n",
    "    print('mixed')"
   ]
  }
 ],
 "metadata": {
  "kernelspec": {
   "display_name": "Python 3.9.13 64-bit",
   "language": "python",
   "name": "python3"
  },
  "language_info": {
   "codemirror_mode": {
    "name": "ipython",
    "version": 3
   },
   "file_extension": ".py",
   "mimetype": "text/x-python",
   "name": "python",
   "nbconvert_exporter": "python",
   "pygments_lexer": "ipython3",
   "version": "3.9.13"
  },
  "orig_nbformat": 4,
  "vscode": {
   "interpreter": {
    "hash": "cf92aa13fedf815d5c8dd192b8d835913fde3e8bc926b2a0ad6cc74ef2ba3ca2"
   }
  }
 },
 "nbformat": 4,
 "nbformat_minor": 2
}
