{
 "cells": [
  {
   "cell_type": "code",
   "execution_count": null,
   "metadata": {},
   "outputs": [],
   "source": [
    "N,M = map(int,input().split())\n",
    "a = list(map(int,input().split()))\n",
    "result = 0\n",
    "sum = []\n",
    "\n",
    "for i in range(N-2):\n",
    "    for j in range(i+1,N-1):\n",
    "        for k in range(j+1,N):\n",
    "            sum.append(a[i]+a[j]+a[k])\n",
    "\n",
    "for i in sum:\n",
    "    if M >= i and result < i:\n",
    "        result = i\n",
    "print(result)\n",
    "#124ms초 나눗셈(소수판별)아니면 시간 많이 안잡아 먹는듯?"
   ]
  },
  {
   "cell_type": "code",
   "execution_count": null,
   "metadata": {},
   "outputs": [],
   "source": [
    "a = []\n",
    "temp = 0\n",
    "N = int(input())\n",
    "for i in range(N):\n",
    "    a.append(int(input()))\n",
    "for i in range(N-1):\n",
    "    for j in range(i,N):\n",
    "        if a[i]>a[j]:\n",
    "            temp = a[i]\n",
    "            a[i] = a[j]\n",
    "            a[j] = temp\n",
    "for i in a:\n",
    "    print(i)"
   ]
  },
  {
   "cell_type": "code",
   "execution_count": null,
   "metadata": {},
   "outputs": [],
   "source": [
    "a = []\n",
    "N = int(input())\n",
    "for i in range(N):\n",
    "    a.append(int(input()))\n",
    "a.sort()    \n",
    "for i in a:\n",
    "    print(i)"
   ]
  },
  {
   "cell_type": "code",
   "execution_count": null,
   "metadata": {},
   "outputs": [],
   "source": [
    "import sys\n",
    "\n",
    "a = []\n",
    "tmep=0\n",
    "N = int(sys.stdin.readline())\n",
    "for i in range(N):\n",
    "    a.append(int(sys.stdin.readline()))\n",
    "for i in range(N-1):\n",
    "    for j in range(i,N):\n",
    "        if a[i]>a[j]:\n",
    "            temp = a[i]\n",
    "            a[i] = a[j]\n",
    "            a[j] = temp\n",
    "for i in a:\n",
    "    print(i)\n",
    "\n",
    "#  sys 쓰더라도 시간초과 비효율적 정렬알고리즘"
   ]
  },
  {
   "cell_type": "code",
   "execution_count": null,
   "metadata": {},
   "outputs": [],
   "source": [
    "N = int(input())\n",
    "\n",
    "a = []\n",
    "\n",
    "for i in range(N):\n",
    "    a.append(int(input()))\n",
    "for i in a:\n",
    "    a.place(i)        \n"
   ]
  },
  {
   "cell_type": "code",
   "execution_count": null,
   "metadata": {},
   "outputs": [],
   "source": [
    "N = int(input())\n",
    "a=[]\n",
    "for i in range(N):\n",
    "    a.append(int(input()))\n",
    "cnt = [0] * (max(a) + 1)\n",
    "for n in a:\n",
    "    cnt[n] += 1\n",
    "for i in range(1, len(cnt)):\n",
    "    cnt[i] += cnt[i-1]\n",
    "result = [0] * (len(a))\n",
    "for n in a:\n",
    "    idx = cnt[n]\n",
    "    result[idx - 1] = n\n",
    "    cnt[n] -= 1\n",
    "\n",
    "for i in result:\n",
    "    print(i)"
   ]
  },
  {
   "cell_type": "code",
   "execution_count": null,
   "metadata": {},
   "outputs": [],
   "source": [
    "import sys\n",
    "\n",
    "N = int(sys.stdin.readline())\n",
    "a=[]\n",
    "for i in range(N):\n",
    "    a.append(int(sys.stdin.readline()))\n",
    "cnt = [0] * (max(a) + 1)\n",
    "for n in a:\n",
    "    cnt[n] += 1\n",
    "for i in range(1, len(cnt)):\n",
    "    cnt[i] += cnt[i-1]\n",
    "result = [0] * (len(a))\n",
    "for n in a:\n",
    "    idx = cnt[n]\n",
    "    result[idx - 1] = n\n",
    "    cnt[n] -= 1\n",
    "\n",
    "for i in result:\n",
    "    print(i)"
   ]
  },
  {
   "cell_type": "code",
   "execution_count": null,
   "metadata": {},
   "outputs": [],
   "source": [
    "import sys\n",
    "\n",
    "N = int(sys.stdin.readline())\n",
    "n = [0] * 10001\n",
    "\n",
    "for _ in range(N):\n",
    "    n[int(sys.stdin.readline())] += 1\n",
    "\n",
    "for i in range(10001):\n",
    "    if n[i] != 0:\n",
    "        for j in range(n[i]):\n",
    "            print(i)\n",
    "#메모리30mb 시간9612ms            "
   ]
  },
  {
   "cell_type": "code",
   "execution_count": null,
   "metadata": {},
   "outputs": [],
   "source": [
    "import sys\n",
    "input = sys.stdin.readline\n",
    "\n",
    "n = int(input())\n",
    "\n",
    "num = [0]*10001\n",
    "\n",
    "for i in range(n):\n",
    "    num[int(input())] += 1\n",
    "\n",
    "for i in range(10001):\n",
    "    if num[i] != 0:\n",
    "        for l in range(num[i]):\n",
    "            print(i)\n",
    "#시간 8888ms걸림  위에꺼보다 더 빠름          "
   ]
  },
  {
   "cell_type": "code",
   "execution_count": 8,
   "metadata": {},
   "outputs": [
    {
     "ename": "IndexError",
     "evalue": "list index out of range",
     "output_type": "error",
     "traceback": [
      "\u001b[1;31m---------------------------------------------------------------------------\u001b[0m",
      "\u001b[1;31mIndexError\u001b[0m                                Traceback (most recent call last)",
      "\u001b[1;32mc:\\Users\\User\\jupter_notebook\\코딩테스트\\coding-test\\220721.ipynb 셀 10\u001b[0m in \u001b[0;36m<cell line: 8>\u001b[1;34m()\u001b[0m\n\u001b[0;32m      <a href='vscode-notebook-cell:/c%3A/Users/User/jupter_notebook/%EC%BD%94%EB%94%A9%ED%85%8C%EC%8A%A4%ED%8A%B8/coding-test/220721.ipynb#ch0000010?line=6'>7</a>\u001b[0m b \u001b[39m=\u001b[39m [\u001b[39m0\u001b[39m]\u001b[39m*\u001b[39m(\u001b[39mmax\u001b[39m(a)\u001b[39m+\u001b[39m\u001b[39m1\u001b[39m)\n\u001b[0;32m      <a href='vscode-notebook-cell:/c%3A/Users/User/jupter_notebook/%EC%BD%94%EB%94%A9%ED%85%8C%EC%8A%A4%ED%8A%B8/coding-test/220721.ipynb#ch0000010?line=7'>8</a>\u001b[0m \u001b[39mfor\u001b[39;00m i \u001b[39min\u001b[39;00m a:\n\u001b[1;32m----> <a href='vscode-notebook-cell:/c%3A/Users/User/jupter_notebook/%EC%BD%94%EB%94%A9%ED%85%8C%EC%8A%A4%ED%8A%B8/coding-test/220721.ipynb#ch0000010?line=8'>9</a>\u001b[0m     b[i] \u001b[39m+\u001b[39m\u001b[39m=\u001b[39m \u001b[39m1\u001b[39m\n\u001b[0;32m     <a href='vscode-notebook-cell:/c%3A/Users/User/jupter_notebook/%EC%BD%94%EB%94%A9%ED%85%8C%EC%8A%A4%ED%8A%B8/coding-test/220721.ipynb#ch0000010?line=9'>10</a>\u001b[0m cnt \u001b[39m=\u001b[39m \u001b[39m0\u001b[39m\n\u001b[0;32m     <a href='vscode-notebook-cell:/c%3A/Users/User/jupter_notebook/%EC%BD%94%EB%94%A9%ED%85%8C%EC%8A%A4%ED%8A%B8/coding-test/220721.ipynb#ch0000010?line=10'>11</a>\u001b[0m md \u001b[39m=\u001b[39m \u001b[39m0\u001b[39m\n",
      "\u001b[1;31mIndexError\u001b[0m: list index out of range"
     ]
    }
   ],
   "source": [
    "import statistics\n",
    "\n",
    "N = int(input())\n",
    "a = [0]*N\n",
    "for i in range(N):\n",
    "    a[i] = int(input())\n",
    "b = [0]*(max(a)+1)\n",
    "for i in a:\n",
    "    b[i] += 1\n",
    "cnt = 0\n",
    "md = 0\n",
    "cnt2 = -1\n",
    "for i in b:\n",
    "    cnt2 += 1\n",
    "    if i == max(b):\n",
    "        if cnt == 1:\n",
    "            md = cnt2\n",
    "            break\n",
    "        md = cnt2\n",
    "        cnt += 1 \n",
    "\n",
    "print(round(statistics.mean(a)))\n",
    "print(int(statistics.median(a)))\n",
    "print(md)\n",
    "print(max(a)-min(a))"
   ]
  }
 ],
 "metadata": {
  "kernelspec": {
   "display_name": "Python 3.9.13 64-bit",
   "language": "python",
   "name": "python3"
  },
  "language_info": {
   "codemirror_mode": {
    "name": "ipython",
    "version": 3
   },
   "file_extension": ".py",
   "mimetype": "text/x-python",
   "name": "python",
   "nbconvert_exporter": "python",
   "pygments_lexer": "ipython3",
   "version": "3.9.13"
  },
  "orig_nbformat": 4,
  "vscode": {
   "interpreter": {
    "hash": "cf92aa13fedf815d5c8dd192b8d835913fde3e8bc926b2a0ad6cc74ef2ba3ca2"
   }
  }
 },
 "nbformat": 4,
 "nbformat_minor": 2
}
