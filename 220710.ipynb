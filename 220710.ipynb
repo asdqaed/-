{
 "cells": [
  {
   "cell_type": "code",
   "execution_count": null,
   "metadata": {},
   "outputs": [],
   "source": [
    "s = input()\n",
    "a = ['a','b','c','d','e','f','g','h','i','j','k'\n",
    ",'l','m','n','o','p','q','r','s','t','u','v'\n",
    ",'w','x','y','z']\n",
    "r = [-1 for i in range(26)]\n",
    "\n",
    "for i in range(len(s)):\n",
    "    for j in range(len(a)):\n",
    "        if s[i] == a[j]:\n",
    "            print(j)\n",
    "            print(s[j])\n",
    "            r.append(a.index(s[j]))\n",
    "            s[i] = j\n",
    "            prop = 1\n",
    "            break\n",
    "\n",
    "print(r)"
   ]
  },
  {
   "cell_type": "code",
   "execution_count": 8,
   "metadata": {},
   "outputs": [
    {
     "ename": "IndexError",
     "evalue": "string index out of range",
     "output_type": "error",
     "traceback": [
      "\u001b[1;31m---------------------------------------------------------------------------\u001b[0m",
      "\u001b[1;31mIndexError\u001b[0m                                Traceback (most recent call last)",
      "\u001b[1;32mc:\\Users\\User\\jupter_notebook\\코딩테스트\\coding-test\\220710.ipynb Cell 2'\u001b[0m in \u001b[0;36m<cell line: 7>\u001b[1;34m()\u001b[0m\n\u001b[0;32m      <a href='vscode-notebook-cell:/c%3A/Users/User/jupter_notebook/%EC%BD%94%EB%94%A9%ED%85%8C%EC%8A%A4%ED%8A%B8/coding-test/220710.ipynb#ch0000001?line=5'>6</a>\u001b[0m prop \u001b[39m=\u001b[39m \u001b[39m0\u001b[39m\n\u001b[0;32m      <a href='vscode-notebook-cell:/c%3A/Users/User/jupter_notebook/%EC%BD%94%EB%94%A9%ED%85%8C%EC%8A%A4%ED%8A%B8/coding-test/220710.ipynb#ch0000001?line=6'>7</a>\u001b[0m \u001b[39mfor\u001b[39;00m i \u001b[39min\u001b[39;00m \u001b[39mrange\u001b[39m(\u001b[39mlen\u001b[39m(a)):\n\u001b[0;32m      <a href='vscode-notebook-cell:/c%3A/Users/User/jupter_notebook/%EC%BD%94%EB%94%A9%ED%85%8C%EC%8A%A4%ED%8A%B8/coding-test/220710.ipynb#ch0000001?line=7'>8</a>\u001b[0m     \u001b[39m#for j in range(len(s)):\u001b[39;00m\n\u001b[1;32m----> <a href='vscode-notebook-cell:/c%3A/Users/User/jupter_notebook/%EC%BD%94%EB%94%A9%ED%85%8C%EC%8A%A4%ED%8A%B8/coding-test/220710.ipynb#ch0000001?line=8'>9</a>\u001b[0m     r\u001b[39m.\u001b[39mappend(a\u001b[39m.\u001b[39mindex(s[i]))\n\u001b[0;32m     <a href='vscode-notebook-cell:/c%3A/Users/User/jupter_notebook/%EC%BD%94%EB%94%A9%ED%85%8C%EC%8A%A4%ED%8A%B8/coding-test/220710.ipynb#ch0000001?line=10'>11</a>\u001b[0m \u001b[39mprint\u001b[39m(r)\n",
      "\u001b[1;31mIndexError\u001b[0m: string index out of range"
     ]
    }
   ],
   "source": [
    "s = input()\n",
    "a = ['a','b','c','e','f','g','h','i','j','k'\n",
    ",'l','m','n','o','p','q','r','s','t','u','v'\n",
    ",'w','x','y','z']\n",
    "r = []\n",
    "prop = 0\n",
    "for i in range(len(a)):\n",
    "    #for j in range(len(s)):\n",
    "    r.append(a.index(s[i]))\n",
    "    \n",
    "print(r)\n",
    "       \n",
    "\n"
   ]
  },
  {
   "cell_type": "code",
   "execution_count": 13,
   "metadata": {},
   "outputs": [
    {
     "name": "stdout",
     "output_type": "stream",
     "text": [
      "b\n",
      "a\n",
      "e\n",
      "k\n",
      "j\n",
      "o\n",
      "o\n",
      "n\n"
     ]
    }
   ],
   "source": [
    "s = 'baekjoon'\n",
    "for i in range(len(s)):\n",
    "    print(s[i])"
   ]
  },
  {
   "cell_type": "code",
   "execution_count": 16,
   "metadata": {},
   "outputs": [
    {
     "name": "stdout",
     "output_type": "stream",
     "text": [
      "a\n",
      "b\n",
      "26\n",
      "8\n",
      "0\n"
     ]
    }
   ],
   "source": [
    "s = 'baekjoon'\n",
    "a = ['a','b','c','d','e','f','g','h','i','j','k'\n",
    ",'l','m','n','o','p','q','r','s','t','u','v'\n",
    ",'w','x','y','z']\n",
    "print(a[0])\n",
    "print(s[0])\n",
    "print(len(a))\n",
    "print(len(s))\n",
    "print(a.index('a'))"
   ]
  },
  {
   "cell_type": "code",
   "execution_count": 8,
   "metadata": {},
   "outputs": [
    {
     "name": "stdout",
     "output_type": "stream",
     "text": [
      "[-1, -1, -1, -1, -1, -1, -1, -1, -1, -1, -1, -1, -1, -1, -1, -1, -1, -1, -1, -1, -1, -1, -1, -1, -1, -1]\n"
     ]
    }
   ],
   "source": [
    "a = [-1 for i in range(26)]\n",
    "print(a)"
   ]
  },
  {
   "cell_type": "code",
   "execution_count": 26,
   "metadata": {},
   "outputs": [
    {
     "name": "stdout",
     "output_type": "stream",
     "text": [
      "1 0 -1 -1 2 -1 -1 -1 -1 4 3 -1 -1 7 5 -1 -1 -1 -1 -1 -1 -1 -1 -1 -1 -1 \n"
     ]
    }
   ],
   "source": [
    "s = input()\n",
    "a = ['a','b','c','d','e','f','g','h','i','j','k'\n",
    ",'l','m','n','o','p','q','r','s','t','u','v'\n",
    ",'w','x','y','z']\n",
    "r = [-1 for i in range(26)]\n",
    "ask = ''\n",
    "for i in range(len(s)):\n",
    "    for j in range(len(a)):\n",
    "        #print(s[i])\n",
    "        if s[i] == a[j]:\n",
    "            if r[a.index(a[j])] == -1:\n",
    "                r[a.index(a[j])] = i\n",
    "            break\n",
    "for i in range(len(r)):\n",
    "    ask +=str(r[i])+' '\n",
    "print(ask)    \n"
   ]
  },
  {
   "cell_type": "code",
   "execution_count": null,
   "metadata": {},
   "outputs": [],
   "source": [
    "x = input()\n",
    "lst=[]\n",
    "lists=[]\n",
    "\n",
    "# print(chr(97))\n",
    "# print(chr(122))\n",
    "for i in range(97,123):\n",
    "    lst.append(chr(i))\n",
    "\n",
    "for j in lst:\n",
    "    lists.append(x.find(j))\n",
    "\n",
    "ans = \" \".join(list(map(str,lists)))\n",
    "print(ans)"
   ]
  }
 ],
 "metadata": {
  "kernelspec": {
   "display_name": "Python 3.9.13 64-bit",
   "language": "python",
   "name": "python3"
  },
  "language_info": {
   "codemirror_mode": {
    "name": "ipython",
    "version": 3
   },
   "file_extension": ".py",
   "mimetype": "text/x-python",
   "name": "python",
   "nbconvert_exporter": "python",
   "pygments_lexer": "ipython3",
   "version": "3.9.13"
  },
  "orig_nbformat": 4,
  "vscode": {
   "interpreter": {
    "hash": "cf92aa13fedf815d5c8dd192b8d835913fde3e8bc926b2a0ad6cc74ef2ba3ca2"
   }
  }
 },
 "nbformat": 4,
 "nbformat_minor": 2
}
