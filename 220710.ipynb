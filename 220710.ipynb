{
 "cells": [
  {
   "cell_type": "code",
   "execution_count": null,
   "metadata": {},
   "outputs": [],
   "source": [
    "s = input()\n",
    "a = ['a','b','c','d','e','f','g','h','i','j','k'\n",
    ",'l','m','n','o','p','q','r','s','t','u','v'\n",
    ",'w','x','y','z']\n",
    "r = [-1 for i in range(26)]\n",
    "\n",
    "for i in range(len(s)):\n",
    "    for j in range(len(a)):\n",
    "        if s[i] == a[j]:\n",
    "            print(j)\n",
    "            print(s[j])\n",
    "            r.append(a.index(s[j]))\n",
    "            s[i] = j\n",
    "            prop = 1\n",
    "            break\n",
    "\n",
    "print(r)"
   ]
  },
  {
   "cell_type": "code",
   "execution_count": null,
   "metadata": {},
   "outputs": [],
   "source": [
    "s = input()\n",
    "a = ['a','b','c','e','f','g','h','i','j','k'\n",
    ",'l','m','n','o','p','q','r','s','t','u','v'\n",
    ",'w','x','y','z']\n",
    "r = []\n",
    "prop = 0\n",
    "for i in range(len(a)):\n",
    "    #for j in range(len(s)):\n",
    "    r.append(a.index(s[i]))\n",
    "    \n",
    "print(r)\n",
    "       \n",
    "\n"
   ]
  },
  {
   "cell_type": "code",
   "execution_count": null,
   "metadata": {},
   "outputs": [],
   "source": [
    "s = 'baekjoon'\n",
    "for i in range(len(s)):\n",
    "    print(s[i])"
   ]
  },
  {
   "cell_type": "code",
   "execution_count": null,
   "metadata": {},
   "outputs": [],
   "source": [
    "s = 'baekjoon'\n",
    "a = ['a','b','c','d','e','f','g','h','i','j','k'\n",
    ",'l','m','n','o','p','q','r','s','t','u','v'\n",
    ",'w','x','y','z']\n",
    "print(a[0])\n",
    "print(s[0])\n",
    "print(len(a))\n",
    "print(len(s))\n",
    "print(a.index('a'))"
   ]
  },
  {
   "cell_type": "code",
   "execution_count": null,
   "metadata": {},
   "outputs": [],
   "source": [
    "a = [-1 for i in range(26)]\n",
    "print(a)"
   ]
  },
  {
   "cell_type": "code",
   "execution_count": null,
   "metadata": {},
   "outputs": [],
   "source": [
    "s = input()\n",
    "a = ['a','b','c','d','e','f','g','h','i','j','k'\n",
    ",'l','m','n','o','p','q','r','s','t','u','v'\n",
    ",'w','x','y','z']\n",
    "r = [-1 for i in range(26)]\n",
    "ask = ''\n",
    "for i in range(len(s)):\n",
    "    for j in range(len(a)):\n",
    "        #print(s[i])\n",
    "        if s[i] == a[j]:\n",
    "            if r[a.index(a[j])] == -1:\n",
    "                r[a.index(a[j])] = i\n",
    "            break\n",
    "for i in range(len(r)):\n",
    "    ask +=str(r[i])+' '\n",
    "print(ask)    \n"
   ]
  },
  {
   "cell_type": "code",
   "execution_count": null,
   "metadata": {},
   "outputs": [],
   "source": [
    "x = input()\n",
    "lst=[]\n",
    "lists=[]\n",
    "\n",
    "# print(chr(97))\n",
    "# print(chr(122))\n",
    "for i in range(97,123):\n",
    "    lst.append(chr(i))\n",
    "\n",
    "for j in lst:\n",
    "    lists.append(x.find(j))\n",
    "\n",
    "ans = \" \".join(list(map(str,lists)))\n",
    "print(ans)"
   ]
  },
  {
   "cell_type": "code",
   "execution_count": null,
   "metadata": {},
   "outputs": [],
   "source": [
    "n = int(input())\n",
    "for i in range(n):\n",
    "    a = []\n",
    "    a = list(input().split())\n",
    "    b = a[1]\n",
    "    s = ''\n",
    "    for j in range(len(b)):\n",
    "        s += b[j]*int(a[0])\n",
    "    print(s)"
   ]
  },
  {
   "cell_type": "code",
   "execution_count": null,
   "metadata": {},
   "outputs": [],
   "source": [
    "a = [1,2,3]\n",
    "b = [1,1,1]\n",
    "c = '456'\n",
    "aa = a+b\n",
    "print(len(c.replace('5','')))"
   ]
  },
  {
   "cell_type": "code",
   "execution_count": null,
   "metadata": {},
   "outputs": [],
   "source": [
    "a = ['a','b','c','d','e','f','g','h','i','j','k'\n",
    ",'l','m','n','o','p','q','r','s','t','u','v'\n",
    ",'w','x','y','z']\n",
    "b = ['A','B','C','D','E','F','G','H','I','J','K'\n",
    ",'L','M','N','O','P','Q','R','S','T','U','V'\n",
    ",'W','X','Y','Z']\n",
    "x = []\n",
    "cnt = 0\n",
    "s = input()\n",
    "s_n= len(s)\n",
    "for i in range(26):\n",
    "    x.append((s_n-len(s.replace(a[i],'')))+(s_n-len(s.replace(b[i],''))))\n",
    "max = max(x)\n",
    "for i in range(26):\n",
    "    if max == x[i]:\n",
    "        cnt +=1\n",
    "if cnt >= 2:\n",
    "    print('?')\n",
    "else:\n",
    "    print(b[x.index(max)])"
   ]
  },
  {
   "cell_type": "code",
   "execution_count": null,
   "metadata": {},
   "outputs": [],
   "source": [
    "print(len(list(input().split())))"
   ]
  }
 ],
 "metadata": {
  "kernelspec": {
   "display_name": "Python 3.9.13 64-bit",
   "language": "python",
   "name": "python3"
  },
  "language_info": {
   "codemirror_mode": {
    "name": "ipython",
    "version": 3
   },
   "file_extension": ".py",
   "mimetype": "text/x-python",
   "name": "python",
   "nbconvert_exporter": "python",
   "pygments_lexer": "ipython3",
   "version": "3.9.13"
  },
  "orig_nbformat": 4,
  "vscode": {
   "interpreter": {
    "hash": "cf92aa13fedf815d5c8dd192b8d835913fde3e8bc926b2a0ad6cc74ef2ba3ca2"
   }
  }
 },
 "nbformat": 4,
 "nbformat_minor": 2
}
