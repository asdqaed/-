{
 "cells": [
  {
   "cell_type": "code",
   "execution_count": null,
   "metadata": {},
   "outputs": [],
   "source": [
    "n,m = map(int,input().split())\n",
    "\n",
    "cnt1_list = []\n",
    "cnt2_list = []\n",
    "toggle1 = 'W'\n",
    "toggle2 = 'B'\n",
    "temp = ''\n",
    "chess = []\n",
    "\n",
    "for i in range(n):\n",
    "    chess.append(input())\n",
    "\n",
    "for floor in range(n-8-1):\n",
    "    num1 = floor\n",
    "    for num1 in range(m-8-1):\n",
    "        cnt1 = 0\n",
    "        cnt2 = 0\n",
    "        num2 = num1\n",
    "        for j in range(8):\n",
    "            # s = input()\n",
    "            # print(s)\n",
    "            s = chess[j]\n",
    "            for num2 in range(8+num2):\n",
    "                print(num2)\n",
    "                if s[num2] != toggle1:\n",
    "                    cnt1 += 1\n",
    "                if s[num2] != toggle2:\n",
    "                    cnt2 += 1\n",
    "                temp = toggle2\n",
    "                toggle2 = toggle1\n",
    "                toggle1 = temp\n",
    "            if j%2 == 0:\n",
    "                toggle1 = 'B'\n",
    "                toggle2 = 'W'\n",
    "            else:\n",
    "                toggle1 = 'W'\n",
    "                toggle2 = 'B'\n",
    "        cnt1_list.append(cnt1)         \n",
    "        cnt2_list.append(cnt2)         \n",
    "print(cnt1_list)        \n",
    "print()        \n",
    "print(cnt2_list)        \n",
    "# if cnt1 > cnt2:\n",
    "#     print(cnt2)\n",
    "# else:\n",
    "#     print(cnt1)"
   ]
  },
  {
   "cell_type": "code",
   "execution_count": null,
   "metadata": {},
   "outputs": [],
   "source": [
    "n,m = map(int,input().split())\n",
    "\n",
    "cnt1_list = []\n",
    "cnt2_list = []\n",
    "chess = []\n",
    "for i in range(n):\n",
    "    chess.append(input())\n",
    "loop1 = 0\n",
    "loop2 = 0\n",
    "while(loop1<=n-8):\n",
    "    print(1)\n",
    "    i = loop1\n",
    "    while(loop2<=m-8):\n",
    "        cnt1 = 0\n",
    "        cnt2 = 0\n",
    "        j = loop2\n",
    "        toggle1 = 'W'\n",
    "        toggle2 = 'B'\n",
    "        for i in range(8+loop1):\n",
    "            print(i)\n",
    "            s = chess[i]\n",
    "            for j in range(8+loop2):\n",
    "                if s[j] != toggle1:\n",
    "                    cnt1 += 1\n",
    "                if s[j] != toggle2:\n",
    "                    cnt2 += 1\n",
    "                \n",
    "                temp = toggle2\n",
    "                toggle2 = toggle1\n",
    "                toggle1 = temp\n",
    "            if i%2 == 0:\n",
    "                toggle1 = 'B'\n",
    "                toggle2 = 'W'\n",
    "            else:\n",
    "                toggle1 = 'W'\n",
    "                toggle2 = 'B'\n",
    "\n",
    "        cnt1_list.append(cnt1)         \n",
    "        cnt2_list.append(cnt2)\n",
    "        loop2 += 1\n",
    "    loop1 += 1    \n",
    "    loop2 = 0\n",
    "print(cnt1_list)        \n",
    "print()        \n",
    "print(cnt2_list)             "
   ]
  },
  {
   "cell_type": "code",
   "execution_count": null,
   "metadata": {},
   "outputs": [],
   "source": [
    "n,m = map(int,input().split())\n",
    "\n",
    "cnt1_list = []\n",
    "cnt2_list = []\n",
    "chess = []\n",
    "test = 0\n",
    "test1 =0\n",
    "for i in range(n):\n",
    "    chess.append(input())\n",
    "loop1 = 0\n",
    "loop2 = 0\n",
    "while(loop1<=n-8):\n",
    "    i = loop1\n",
    "    while(loop2<=m-8):\n",
    "        test += 1\n",
    "        cnt1 = 0\n",
    "        cnt2 = 0\n",
    "        j = loop2\n",
    "        toggle1 = 'W'\n",
    "        toggle2 = 'B'\n",
    "        floor = 0\n",
    "        while i < 8+loop1:\n",
    "            s = chess[i]\n",
    "            while j < 8+loop2:\n",
    "                # print(j)\n",
    "                if s[j] != toggle1:\n",
    "                    cnt1 += 1\n",
    "                if s[j] != toggle2:\n",
    "                    cnt2 += 1\n",
    "                \n",
    "                temp = toggle2\n",
    "                toggle2 = toggle1\n",
    "                toggle1 = temp\n",
    "                j += 1    \n",
    "            if floor%2 == 0:\n",
    "                toggle1 = 'B'\n",
    "                toggle2 = 'W'\n",
    "            else:\n",
    "                toggle1 = 'W'\n",
    "                toggle2 = 'B'\n",
    "            floor += 1    \n",
    "            i += 1\n",
    "            j = loop2\n",
    "        i = loop1    \n",
    "        cnt1_list.append(cnt1)         \n",
    "        cnt2_list.append(cnt2)\n",
    "        loop2 += 1\n",
    "    loop1 += 1    \n",
    "    loop2 = 0\n",
    "print(cnt1_list)\n",
    "print()        \n",
    "print(cnt2_list)    \n",
    "\n",
    "if min(cnt1_list) > min(cnt2_list):\n",
    "    print(min(cnt2_list))\n",
    "else:\n",
    "    print(min(cnt1_list))"
   ]
  },
  {
   "cell_type": "code",
   "execution_count": null,
   "metadata": {},
   "outputs": [],
   "source": [
    "import sys\n",
    "input = sys.stdin.readline\n",
    "n,m = map(int,input().split())\n",
    "cnt1_list = []\n",
    "cnt2_list = []\n",
    "chess = []\n",
    "for i in range(n):\n",
    "    chess.append(input())\n",
    "loop1 = 0\n",
    "loop2 = 0\n",
    "while(loop1<=n-8):\n",
    "    i = loop1\n",
    "    while(loop2<=m-8):\n",
    "        cnt1 = 0\n",
    "        cnt2 = 0\n",
    "        j = loop2\n",
    "        toggle1 = 'W'\n",
    "        toggle2 = 'B'\n",
    "        floor = 0\n",
    "        while i < 8+loop1:\n",
    "            s = chess[i]\n",
    "            while j < 8+loop2:\n",
    "                if s[j] != toggle1:\n",
    "                    cnt1 += 1\n",
    "                if s[j] != toggle2:\n",
    "                    cnt2 += 1\n",
    "                temp = toggle2\n",
    "                toggle2 = toggle1\n",
    "                toggle1 = temp\n",
    "                j += 1\n",
    "            if floor%2 == 0:\n",
    "                toggle1 = 'B'\n",
    "                toggle2 = 'W'\n",
    "            else:\n",
    "                toggle1 = 'W'\n",
    "                toggle2 = 'B'\n",
    "            floor += 1\n",
    "            i += 1\n",
    "            j = loop2\n",
    "        i = loop1\n",
    "        cnt1_list.append(cnt1)\n",
    "        cnt2_list.append(cnt2)\n",
    "        loop2 += 1\n",
    "    loop1 += 1\n",
    "    loop2 = 0\n",
    "if min(cnt1_list) > min(cnt2_list):\n",
    "    print(min(cnt2_list))\n",
    "else:\n",
    "    print(min(cnt1_list))"
   ]
  },
  {
   "cell_type": "code",
   "execution_count": null,
   "metadata": {},
   "outputs": [],
   "source": [
    "N, M = map(int, input().split())\n",
    "original = []\n",
    "count = []\n",
    "\n",
    "for _ in range(N):\n",
    "    original.append(input())\n",
    "\n",
    "for a in range(N-7):\n",
    "    for b in range(M-7):\n",
    "        index1 = 0\n",
    "        index2 = 0\n",
    "        for i in range(a, a+8):\n",
    "            for j in range(b, b+8):\n",
    "                if (i+j) % 2 == 0:\n",
    "                    if original[i][j] != 'W':\n",
    "                        index1 += 1\n",
    "                    if original[i][j] != 'B':\n",
    "                        index2 += 1\n",
    "                else:\n",
    "                    if original[i][j] != 'B':\n",
    "                        index1 += 1\n",
    "                    if original[i][j] != 'W':\n",
    "                        index2 += 1\n",
    "        count.append(min(index1, index2))\n",
    "\n",
    "print(min(count))"
   ]
  },
  {
   "cell_type": "code",
   "execution_count": null,
   "metadata": {},
   "outputs": [],
   "source": [
    "import sys\n",
    "input = sys.stdin.readline\n",
    "\n",
    "while True:\n",
    "    s = input().strip()\n",
    "    if s == '0':\n",
    "        break\n",
    "    s_len = len(s)\n",
    "    isNo = ''\n",
    "    for i in range(int(s_len/2)):\n",
    "        if s[i] != s[s_len-i-1]:\n",
    "            isNo = True\n",
    "            break\n",
    "    if isNo:\n",
    "        print('no')\n",
    "    else:\n",
    "        print('yes')"
   ]
  },
  {
   "cell_type": "code",
   "execution_count": null,
   "metadata": {},
   "outputs": [],
   "source": [
    "import datetime as dt\n",
    "x = dt.datetime.now()\n",
    "print('{}-0{}-{}'.format(x.year,x.month,x.day))"
   ]
  },
  {
   "cell_type": "code",
   "execution_count": null,
   "metadata": {},
   "outputs": [],
   "source": [
    "print(94)\n",
    "print('myeong5732')"
   ]
  },
  {
   "cell_type": "code",
   "execution_count": null,
   "metadata": {},
   "outputs": [],
   "source": [
    "print(sum(list(map(int,input().split()))))"
   ]
  },
  {
   "cell_type": "code",
   "execution_count": null,
   "metadata": {},
   "outputs": [],
   "source": [
    "print(eval(input().replace(*' +')))"
   ]
  },
  {
   "cell_type": "code",
   "execution_count": null,
   "metadata": {},
   "outputs": [],
   "source": [
    "a,b = map(int,input().split())\n",
    "print(abs(a-b))"
   ]
  },
  {
   "cell_type": "code",
   "execution_count": null,
   "metadata": {},
   "outputs": [],
   "source": [
    "n = int(input())\n",
    "a = list(map(int,input().split()))\n",
    "cnt = 0\n",
    "v = int(input())\n",
    "for i in a:\n",
    "    if i == v:\n",
    "        cnt += 1\n",
    "print(cnt)"
   ]
  },
  {
   "cell_type": "code",
   "execution_count": null,
   "metadata": {},
   "outputs": [],
   "source": [
    "a = []\n",
    "for _ in range(28):\n",
    "    a.append(int(input()))\n",
    "\n",
    "for i in range(1,31):\n",
    "    if i not in a:\n",
    "        print(i)"
   ]
  },
  {
   "cell_type": "code",
   "execution_count": null,
   "metadata": {},
   "outputs": [],
   "source": [
    "n,m = map(int,input().split())\n",
    "n1 = [[0]*m]*n\n",
    "n2 = [[0]*m]*n\n",
    "n3 = [[0]*m]*n\n",
    "for i in range(n):\n",
    "    n1[i] = list(map(int,input().split()))\n",
    "for i in range(n):     \n",
    "    n2[i] = list(map(int,input().split()))\n",
    "print(n1)    \n",
    "print()    \n",
    "print(n2)    \n",
    "for i in range(n):\n",
    "    for j in range(m):\n",
    "        num = n1[i][j]+n2[i][j]\n",
    "        print(num)\n",
    "        n3[i][j] = num\n",
    "print(n3)    \n",
    "for i in n3:\n",
    "    s = ''\n",
    "    print(i)\n",
    "    for j in i:\n",
    "        s += str(j)+' '\n",
    "    print(s)\n",
    "#     연산자 *로 2중 리스트 선언\n",
    "# array = [[0]*11 ]*10\n",
    "# for문으로 선언할때와 결과는 같습니다.\n",
    "\n",
    "# 이 방법으로 배열을 선언하게 되면, 단순히 요소를 복사하게\n",
    "#  되는 얕은복사 (shallow copy)가 일어난다. 단순히 요소를 \n",
    "# 복사하다 보니 바라보는 객체는 동일하다. 즉, 이러한 방식으로\n",
    "#  선언 뒤에, 값을 변경하게되면 다른 원소들도 값이 변경되는\n",
    "#  현상이 발생하게 되므로 이를 인지하고, 후에 대입연산자를 \n",
    "# 통해 값을 변경하지 않는 경우에만 사용하는것이 좋다."
   ]
  },
  {
   "cell_type": "code",
   "execution_count": null,
   "metadata": {},
   "outputs": [],
   "source": [
    "# n = [[[0]*3]*3]\n",
    "n = [[0,0,0],[0,0,0],[0,0,0]]\n",
    "n[1][1] = 4\n",
    "print(n)"
   ]
  },
  {
   "cell_type": "code",
   "execution_count": 11,
   "metadata": {},
   "outputs": [
    {
     "name": "stdout",
     "output_type": "stream",
     "text": [
      "[[1, 2, 3], [2, 3, 4], [1, 1, 1]]\n",
      "\n",
      "[[2, 2, 2], [3, 3, 3], [4, 4, 4]]\n",
      "3 4 5 \n",
      "5 6 7 \n",
      "5 5 5 \n"
     ]
    }
   ],
   "source": [
    "n,m = map(int,input().split())\n",
    "n1 = [[0]*m]*n\n",
    "n2 = [[0]*m]*n\n",
    "for i in range(n):\n",
    "    n1[i] = list(map(int,input().split()))\n",
    "for i in range(n):\n",
    "    n2[i] = list(map(int,input().split()))\n",
    "for i in range(n):\n",
    "    s = ''\n",
    "    for j in range(m):\n",
    "        s += str(n1[i][j]+n2[i][j])+' '\n",
    "    print(s)"
   ]
  },
  {
   "cell_type": "code",
   "execution_count": 12,
   "metadata": {},
   "outputs": [
    {
     "name": "stdout",
     "output_type": "stream",
     "text": [
      "1\n",
      "1\n",
      "0\n",
      "0\n",
      "1\n"
     ]
    }
   ],
   "source": [
    "import sys\n",
    "input = sys.stdin.readline\n",
    "\n",
    "n = int(input())\n",
    "nList = list(map(int,input().split()))\n",
    "m = int(input())\n",
    "mList = list(map(int,input().split()))\n",
    "\n",
    "for i in range(m):\n",
    "    if mList[i] in nList:\n",
    "        print(1)\n",
    "    else:\n",
    "        print(0)"
   ]
  },
  {
   "cell_type": "code",
   "execution_count": 5,
   "metadata": {},
   "outputs": [
    {
     "name": "stdout",
     "output_type": "stream",
     "text": [
      "[1, 2, 3, 4, 5]\n",
      "\n",
      "1\n",
      "1\n",
      "0\n",
      "0\n",
      "1\n"
     ]
    }
   ],
   "source": [
    "import sys\n",
    "input = sys.stdin.readline\n",
    "\n",
    "def binary_search(nList, mList, start, end):\n",
    "    if start > end:\n",
    "        return False\n",
    "    mid = (start + end) // 2\n",
    "\n",
    "    if nList[mid] == mList:\n",
    "        return True\n",
    "    elif nList[mid] > mList:\n",
    "        return binary_search(nList, mList, start, mid - 1)\n",
    "    else:\n",
    "        return binary_search(nList, mList, mid + 1, end)\n",
    "\n",
    "n = int(input())\n",
    "nList = list(map(int,input().split()))\n",
    "m = int(input())\n",
    "mList = list(map(int,input().split()))\n",
    "\n",
    "nList.sort()\n",
    "for i in range(m):\n",
    "    if binary_search(nList, mList[i], 0, n-1):\n",
    "        print(1)\n",
    "    else:\n",
    "        print(0)"
   ]
  },
  {
   "cell_type": "code",
   "execution_count": 27,
   "metadata": {},
   "outputs": [
    {
     "name": "stdout",
     "output_type": "stream",
     "text": [
      "4\n"
     ]
    }
   ],
   "source": [
    "n = int(input())\n",
    "a = list(range(1,n+1))\n",
    "for i in range(n-1):\n",
    "    del a[0]\n",
    "    a.append(a.pop(0))\n",
    "print(a[0])"
   ]
  },
  {
   "cell_type": "code",
   "execution_count": 31,
   "metadata": {},
   "outputs": [
    {
     "name": "stdout",
     "output_type": "stream",
     "text": [
      "4\n"
     ]
    }
   ],
   "source": [
    "from collections import deque\n",
    "n = int(input())\n",
    "a = list(range(1,n+1))\n",
    "q = deque(a)\n",
    "for i in range(n-1):\n",
    "    q.popleft()\n",
    "    num = q.popleft()\n",
    "    q.append(num)\n",
    "print(q[0])"
   ]
  },
  {
   "cell_type": "code",
   "execution_count": 38,
   "metadata": {},
   "outputs": [
    {
     "name": "stdout",
     "output_type": "stream",
     "text": [
      "6\n",
      "72\n"
     ]
    }
   ],
   "source": [
    "a,b = map(int,input().split())\n",
    "max = a if a>b else b\n",
    "min = a if a<b else b\n",
    "result = 0\n",
    "while True:\n",
    "    if max%a==0 and max%b==0:\n",
    "        break\n",
    "    max += 1\n",
    "for i in range(1,min):\n",
    "    if a%i==0 and b%i==0:\n",
    "        result = i\n",
    "print(result)\n",
    "print(max)"
   ]
  }
 ],
 "metadata": {
  "kernelspec": {
   "display_name": "Python 3.9.13 64-bit",
   "language": "python",
   "name": "python3"
  },
  "language_info": {
   "codemirror_mode": {
    "name": "ipython",
    "version": 3
   },
   "file_extension": ".py",
   "mimetype": "text/x-python",
   "name": "python",
   "nbconvert_exporter": "python",
   "pygments_lexer": "ipython3",
   "version": "3.9.13"
  },
  "orig_nbformat": 4,
  "vscode": {
   "interpreter": {
    "hash": "cf92aa13fedf815d5c8dd192b8d835913fde3e8bc926b2a0ad6cc74ef2ba3ca2"
   }
  }
 },
 "nbformat": 4,
 "nbformat_minor": 2
}
