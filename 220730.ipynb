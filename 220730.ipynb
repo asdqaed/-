{
 "cells": [
  {
   "cell_type": "code",
   "execution_count": null,
   "metadata": {},
   "outputs": [],
   "source": [
    "n,m = map(int,input().split())\n",
    "\n",
    "cnt1_list = []\n",
    "cnt2_list = []\n",
    "toggle1 = 'W'\n",
    "toggle2 = 'B'\n",
    "temp = ''\n",
    "chess = []\n",
    "\n",
    "for i in range(n):\n",
    "    chess.append(input())\n",
    "\n",
    "for floor in range(n-8-1):\n",
    "    num1 = floor\n",
    "    for num1 in range(m-8-1):\n",
    "        cnt1 = 0\n",
    "        cnt2 = 0\n",
    "        num2 = num1\n",
    "        for j in range(8):\n",
    "            # s = input()\n",
    "            # print(s)\n",
    "            s = chess[j]\n",
    "            for num2 in range(8+num2):\n",
    "                print(num2)\n",
    "                if s[num2] != toggle1:\n",
    "                    cnt1 += 1\n",
    "                if s[num2] != toggle2:\n",
    "                    cnt2 += 1\n",
    "                temp = toggle2\n",
    "                toggle2 = toggle1\n",
    "                toggle1 = temp\n",
    "            if j%2 == 0:\n",
    "                toggle1 = 'B'\n",
    "                toggle2 = 'W'\n",
    "            else:\n",
    "                toggle1 = 'W'\n",
    "                toggle2 = 'B'\n",
    "        cnt1_list.append(cnt1)         \n",
    "        cnt2_list.append(cnt2)         \n",
    "print(cnt1_list)        \n",
    "print()        \n",
    "print(cnt2_list)        \n",
    "# if cnt1 > cnt2:\n",
    "#     print(cnt2)\n",
    "# else:\n",
    "#     print(cnt1)"
   ]
  },
  {
   "cell_type": "code",
   "execution_count": null,
   "metadata": {},
   "outputs": [],
   "source": [
    "n,m = map(int,input().split())\n",
    "\n",
    "cnt1_list = []\n",
    "cnt2_list = []\n",
    "chess = []\n",
    "for i in range(n):\n",
    "    chess.append(input())\n",
    "loop1 = 0\n",
    "loop2 = 0\n",
    "while(loop1<=n-8):\n",
    "    print(1)\n",
    "    i = loop1\n",
    "    while(loop2<=m-8):\n",
    "        cnt1 = 0\n",
    "        cnt2 = 0\n",
    "        j = loop2\n",
    "        toggle1 = 'W'\n",
    "        toggle2 = 'B'\n",
    "        for i in range(8+loop1):\n",
    "            print(i)\n",
    "            s = chess[i]\n",
    "            for j in range(8+loop2):\n",
    "                if s[j] != toggle1:\n",
    "                    cnt1 += 1\n",
    "                if s[j] != toggle2:\n",
    "                    cnt2 += 1\n",
    "                \n",
    "                temp = toggle2\n",
    "                toggle2 = toggle1\n",
    "                toggle1 = temp\n",
    "            if i%2 == 0:\n",
    "                toggle1 = 'B'\n",
    "                toggle2 = 'W'\n",
    "            else:\n",
    "                toggle1 = 'W'\n",
    "                toggle2 = 'B'\n",
    "\n",
    "        cnt1_list.append(cnt1)         \n",
    "        cnt2_list.append(cnt2)\n",
    "        loop2 += 1\n",
    "    loop1 += 1    \n",
    "    loop2 = 0\n",
    "print(cnt1_list)        \n",
    "print()        \n",
    "print(cnt2_list)             "
   ]
  },
  {
   "cell_type": "code",
   "execution_count": null,
   "metadata": {},
   "outputs": [],
   "source": [
    "n,m = map(int,input().split())\n",
    "\n",
    "cnt1_list = []\n",
    "cnt2_list = []\n",
    "chess = []\n",
    "test = 0\n",
    "test1 =0\n",
    "for i in range(n):\n",
    "    chess.append(input())\n",
    "loop1 = 0\n",
    "loop2 = 0\n",
    "while(loop1<=n-8):\n",
    "    i = loop1\n",
    "    while(loop2<=m-8):\n",
    "        test += 1\n",
    "        cnt1 = 0\n",
    "        cnt2 = 0\n",
    "        j = loop2\n",
    "        toggle1 = 'W'\n",
    "        toggle2 = 'B'\n",
    "        floor = 0\n",
    "        while i < 8+loop1:\n",
    "            s = chess[i]\n",
    "            while j < 8+loop2:\n",
    "                # print(j)\n",
    "                if s[j] != toggle1:\n",
    "                    cnt1 += 1\n",
    "                if s[j] != toggle2:\n",
    "                    cnt2 += 1\n",
    "                \n",
    "                temp = toggle2\n",
    "                toggle2 = toggle1\n",
    "                toggle1 = temp\n",
    "                j += 1    \n",
    "            if floor%2 == 0:\n",
    "                toggle1 = 'B'\n",
    "                toggle2 = 'W'\n",
    "            else:\n",
    "                toggle1 = 'W'\n",
    "                toggle2 = 'B'\n",
    "            floor += 1    \n",
    "            i += 1\n",
    "            j = loop2\n",
    "        i = loop1    \n",
    "        cnt1_list.append(cnt1)         \n",
    "        cnt2_list.append(cnt2)\n",
    "        loop2 += 1\n",
    "    loop1 += 1    \n",
    "    loop2 = 0\n",
    "print(cnt1_list)\n",
    "print()        \n",
    "print(cnt2_list)    \n",
    "\n",
    "if min(cnt1_list) > min(cnt2_list):\n",
    "    print(min(cnt2_list))\n",
    "else:\n",
    "    print(min(cnt1_list))"
   ]
  },
  {
   "cell_type": "code",
   "execution_count": null,
   "metadata": {},
   "outputs": [],
   "source": [
    "import sys\n",
    "input = sys.stdin.readline\n",
    "n,m = map(int,input().split())\n",
    "cnt1_list = []\n",
    "cnt2_list = []\n",
    "chess = []\n",
    "for i in range(n):\n",
    "    chess.append(input())\n",
    "loop1 = 0\n",
    "loop2 = 0\n",
    "while(loop1<=n-8):\n",
    "    i = loop1\n",
    "    while(loop2<=m-8):\n",
    "        cnt1 = 0\n",
    "        cnt2 = 0\n",
    "        j = loop2\n",
    "        toggle1 = 'W'\n",
    "        toggle2 = 'B'\n",
    "        floor = 0\n",
    "        while i < 8+loop1:\n",
    "            s = chess[i]\n",
    "            while j < 8+loop2:\n",
    "                if s[j] != toggle1:\n",
    "                    cnt1 += 1\n",
    "                if s[j] != toggle2:\n",
    "                    cnt2 += 1\n",
    "                temp = toggle2\n",
    "                toggle2 = toggle1\n",
    "                toggle1 = temp\n",
    "                j += 1\n",
    "            if floor%2 == 0:\n",
    "                toggle1 = 'B'\n",
    "                toggle2 = 'W'\n",
    "            else:\n",
    "                toggle1 = 'W'\n",
    "                toggle2 = 'B'\n",
    "            floor += 1\n",
    "            i += 1\n",
    "            j = loop2\n",
    "        i = loop1\n",
    "        cnt1_list.append(cnt1)\n",
    "        cnt2_list.append(cnt2)\n",
    "        loop2 += 1\n",
    "    loop1 += 1\n",
    "    loop2 = 0\n",
    "if min(cnt1_list) > min(cnt2_list):\n",
    "    print(min(cnt2_list))\n",
    "else:\n",
    "    print(min(cnt1_list))"
   ]
  },
  {
   "cell_type": "code",
   "execution_count": null,
   "metadata": {},
   "outputs": [],
   "source": [
    "N, M = map(int, input().split())\n",
    "original = []\n",
    "count = []\n",
    "\n",
    "for _ in range(N):\n",
    "    original.append(input())\n",
    "\n",
    "for a in range(N-7):\n",
    "    for b in range(M-7):\n",
    "        index1 = 0\n",
    "        index2 = 0\n",
    "        for i in range(a, a+8):\n",
    "            for j in range(b, b+8):\n",
    "                if (i+j) % 2 == 0:\n",
    "                    if original[i][j] != 'W':\n",
    "                        index1 += 1\n",
    "                    if original[i][j] != 'B':\n",
    "                        index2 += 1\n",
    "                else:\n",
    "                    if original[i][j] != 'B':\n",
    "                        index1 += 1\n",
    "                    if original[i][j] != 'W':\n",
    "                        index2 += 1\n",
    "        count.append(min(index1, index2))\n",
    "\n",
    "print(min(count))"
   ]
  },
  {
   "cell_type": "code",
   "execution_count": null,
   "metadata": {},
   "outputs": [],
   "source": [
    "import sys\n",
    "input = sys.stdin.readline\n",
    "\n",
    "while True:\n",
    "    s = input().strip()\n",
    "    if s == '0':\n",
    "        break\n",
    "    s_len = len(s)\n",
    "    isNo = ''\n",
    "    for i in range(int(s_len/2)):\n",
    "        if s[i] != s[s_len-i-1]:\n",
    "            isNo = True\n",
    "            break\n",
    "    if isNo:\n",
    "        print('no')\n",
    "    else:\n",
    "        print('yes')"
   ]
  },
  {
   "cell_type": "code",
   "execution_count": 7,
   "metadata": {},
   "outputs": [
    {
     "name": "stdout",
     "output_type": "stream",
     "text": [
      "2022-07-30\n"
     ]
    }
   ],
   "source": [
    "import datetime as dt\n",
    "x = dt.datetime.now()\n",
    "print('{}-0{}-{}'.format(x.year,x.month,x.day))"
   ]
  },
  {
   "cell_type": "code",
   "execution_count": null,
   "metadata": {},
   "outputs": [],
   "source": [
    "print(94)\n",
    "print('myeong5732')"
   ]
  },
  {
   "cell_type": "code",
   "execution_count": 8,
   "metadata": {},
   "outputs": [
    {
     "name": "stdout",
     "output_type": "stream",
     "text": [
      "7931\n"
     ]
    }
   ],
   "source": [
    "print(sum(list(map(int,input().split()))))"
   ]
  },
  {
   "cell_type": "code",
   "execution_count": null,
   "metadata": {},
   "outputs": [],
   "source": [
    "print(eval(input().replace(*' +')))"
   ]
  },
  {
   "cell_type": "code",
   "execution_count": 9,
   "metadata": {},
   "outputs": [
    {
     "name": "stdout",
     "output_type": "stream",
     "text": [
      "7\n"
     ]
    }
   ],
   "source": [
    "a,b = map(int,input().split())\n",
    "print(abs(a-b))"
   ]
  },
  {
   "cell_type": "code",
   "execution_count": 15,
   "metadata": {},
   "outputs": [
    {
     "name": "stdout",
     "output_type": "stream",
     "text": [
      "[1, 4, 1, 2, 4, 2, 4, 2, 3, 4, 4]\n",
      "0\n"
     ]
    }
   ],
   "source": [
    "n = int(input())\n",
    "a = list(map(int,input().split()))\n",
    "cnt = 0\n",
    "v = int(input())\n",
    "for i in a:\n",
    "    if i == v:\n",
    "        cnt += 1\n",
    "print(cnt)"
   ]
  }
 ],
 "metadata": {
  "kernelspec": {
   "display_name": "Python 3.9.13 64-bit",
   "language": "python",
   "name": "python3"
  },
  "language_info": {
   "codemirror_mode": {
    "name": "ipython",
    "version": 3
   },
   "file_extension": ".py",
   "mimetype": "text/x-python",
   "name": "python",
   "nbconvert_exporter": "python",
   "pygments_lexer": "ipython3",
   "version": "3.9.13"
  },
  "orig_nbformat": 4,
  "vscode": {
   "interpreter": {
    "hash": "cf92aa13fedf815d5c8dd192b8d835913fde3e8bc926b2a0ad6cc74ef2ba3ca2"
   }
  }
 },
 "nbformat": 4,
 "nbformat_minor": 2
}
