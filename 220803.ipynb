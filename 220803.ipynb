{
 "cells": [
  {
   "cell_type": "code",
   "execution_count": 4,
   "metadata": {},
   "outputs": [
    {
     "name": "stdout",
     "output_type": "stream",
     "text": [
      "161\n"
     ]
    }
   ],
   "source": [
    "x,y,w,h = map(int,input().split())\n",
    "a = [x,y,w-x,h-y]\n",
    "print(min(a))"
   ]
  },
  {
   "cell_type": "code",
   "execution_count": 14,
   "metadata": {},
   "outputs": [
    {
     "name": "stdout",
     "output_type": "stream",
     "text": [
      "2666799\n"
     ]
    }
   ],
   "source": [
    "n = int(input())\n",
    "cnt = 0\n",
    "num = 1\n",
    "while cnt < n:\n",
    "    if '666' in str(num):\n",
    "        cnt += 1\n",
    "    num += 1\n",
    "print(num-1)"
   ]
  },
  {
   "cell_type": "code",
   "execution_count": 19,
   "metadata": {},
   "outputs": [
    {
     "ename": "KeyboardInterrupt",
     "evalue": "",
     "output_type": "error",
     "traceback": [
      "\u001b[1;31m---------------------------------------------------------------------------\u001b[0m",
      "\u001b[1;31mKeyboardInterrupt\u001b[0m                         Traceback (most recent call last)",
      "\u001b[1;32mc:\\Users\\User\\jupter_notebook\\코딩테스트\\coding-test\\220803.ipynb 셀 3\u001b[0m in \u001b[0;36m<cell line: 9>\u001b[1;34m()\u001b[0m\n\u001b[0;32m     <a href='vscode-notebook-cell:/c%3A/Users/User/jupter_notebook/%EC%BD%94%EB%94%A9%ED%85%8C%EC%8A%A4%ED%8A%B8/coding-test/220803.ipynb#ch0000002?line=9'>10</a>\u001b[0m \u001b[39mfor\u001b[39;00m i \u001b[39min\u001b[39;00m a:\n\u001b[0;32m     <a href='vscode-notebook-cell:/c%3A/Users/User/jupter_notebook/%EC%BD%94%EB%94%A9%ED%85%8C%EC%8A%A4%ED%8A%B8/coding-test/220803.ipynb#ch0000002?line=10'>11</a>\u001b[0m     cnt \u001b[39m+\u001b[39m\u001b[39m=\u001b[39m i\u001b[39m/\u001b[39m\u001b[39m/\u001b[39mnum\n\u001b[1;32m---> <a href='vscode-notebook-cell:/c%3A/Users/User/jupter_notebook/%EC%BD%94%EB%94%A9%ED%85%8C%EC%8A%A4%ED%8A%B8/coding-test/220803.ipynb#ch0000002?line=11'>12</a>\u001b[0m     \u001b[39mif\u001b[39;00m cnt\u001b[39m>\u001b[39mk:\n\u001b[0;32m     <a href='vscode-notebook-cell:/c%3A/Users/User/jupter_notebook/%EC%BD%94%EB%94%A9%ED%85%8C%EC%8A%A4%ED%8A%B8/coding-test/220803.ipynb#ch0000002?line=12'>13</a>\u001b[0m         toggle \u001b[39m=\u001b[39m \u001b[39mTrue\u001b[39;00m\n\u001b[0;32m     <a href='vscode-notebook-cell:/c%3A/Users/User/jupter_notebook/%EC%BD%94%EB%94%A9%ED%85%8C%EC%8A%A4%ED%8A%B8/coding-test/220803.ipynb#ch0000002?line=13'>14</a>\u001b[0m         \u001b[39mbreak\u001b[39;00m\n",
      "\u001b[1;31mKeyboardInterrupt\u001b[0m: "
     ]
    }
   ],
   "source": [
    "n,k = map(int,input().split())\n",
    "a = [0]*n\n",
    "num = 1\n",
    "for i in range(n):\n",
    "    a[i] = int(input())\n",
    "# min_num =min(a)\n",
    "toggle = False\n",
    "while True:\n",
    "    cnt = 0\n",
    "    for i in a:\n",
    "        cnt += i//num\n",
    "        if cnt>k:\n",
    "            toggle = True\n",
    "            break\n",
    "    if toggle:\n",
    "        toggle = False\n",
    "    elif cnt > k:\n",
    "        break\n",
    "    num += 1 \n",
    "print(num)    \n"
   ]
  },
  {
   "cell_type": "code",
   "execution_count": 21,
   "metadata": {},
   "outputs": [
    {
     "name": "stdout",
     "output_type": "stream",
     "text": [
      "200\n"
     ]
    }
   ],
   "source": [
    "import sys\n",
    "input = sys.stdin.readline\n",
    "n,k = map(int,input().split())\n",
    "a = [0]*n\n",
    "for i in range(n):\n",
    "    a[i] = int(input())\n",
    "min_num =min(a)\n",
    "while True:\n",
    "    cnt = 0\n",
    "    for i in a:\n",
    "        cnt += i//min_num\n",
    "    if cnt == k:\n",
    "        break\n",
    "    min_num -= 1\n",
    "print(min_num)"
   ]
  }
 ],
 "metadata": {
  "kernelspec": {
   "display_name": "Python 3.9.13 64-bit",
   "language": "python",
   "name": "python3"
  },
  "language_info": {
   "codemirror_mode": {
    "name": "ipython",
    "version": 3
   },
   "file_extension": ".py",
   "mimetype": "text/x-python",
   "name": "python",
   "nbconvert_exporter": "python",
   "pygments_lexer": "ipython3",
   "version": "3.9.13"
  },
  "orig_nbformat": 4,
  "vscode": {
   "interpreter": {
    "hash": "cf92aa13fedf815d5c8dd192b8d835913fde3e8bc926b2a0ad6cc74ef2ba3ca2"
   }
  }
 },
 "nbformat": 4,
 "nbformat_minor": 2
}
