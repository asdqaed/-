{
 "cells": [
  {
   "cell_type": "code",
   "execution_count": 1,
   "metadata": {},
   "outputs": [
    {
     "name": "stdout",
     "output_type": "stream",
     "text": [
      "1\n",
      "2\n",
      "3\n",
      "4\n",
      "5\n"
     ]
    }
   ],
   "source": [
    "a = int(input())\n",
    "\n",
    "n=1\n",
    "for i in range(a):\n",
    "    print(n)\n",
    "    n +=1\n"
   ]
  },
  {
   "cell_type": "code",
   "execution_count": 2,
   "metadata": {},
   "outputs": [
    {
     "name": "stdout",
     "output_type": "stream",
     "text": [
      "5\n",
      "4\n",
      "3\n",
      "2\n",
      "1\n"
     ]
    }
   ],
   "source": [
    "a = int(input())\n",
    "\n",
    "\n",
    "for i in range(a):\n",
    "    print(a)\n",
    "    a -=1"
   ]
  },
  {
   "cell_type": "code",
   "execution_count": 6,
   "metadata": {},
   "outputs": [
    {
     "name": "stdout",
     "output_type": "stream",
     "text": [
      "Case #1: 5\n",
      "Case #2: 7\n"
     ]
    }
   ],
   "source": [
    "n = int(input())\n",
    "\n",
    "for i in range(1,n+1):\n",
    "    a,b = map(int,input().split())\n",
    "    print('Case #'+str(i)+':',a+b)"
   ]
  },
  {
   "cell_type": "code",
   "execution_count": 7,
   "metadata": {},
   "outputs": [
    {
     "name": "stdout",
     "output_type": "stream",
     "text": [
      "Case #1: 2 + 3 = 5\n",
      "Case #2: 3 + 4 = 7\n"
     ]
    }
   ],
   "source": [
    "n = int(input())\n",
    "\n",
    "for i in range(1,n+1):\n",
    "    a,b = map(int,input().split())\n",
    "    print('Case #'+str(i)+':',a,'+',b,'=',a+b)"
   ]
  },
  {
   "cell_type": "code",
   "execution_count": 19,
   "metadata": {},
   "outputs": [
    {
     "name": "stdout",
     "output_type": "stream",
     "text": [
      "     *\n",
      "    **\n",
      "   ***\n",
      "  ****\n",
      " *****\n",
      "******\n"
     ]
    }
   ],
   "source": [
    "n =int(input())\n",
    "\n",
    "a='*'\n",
    "for i in range(1,n+1):\n",
    "    print(' '*(n-i)+a*i)"
   ]
  },
  {
   "cell_type": "code",
   "execution_count": 37,
   "metadata": {},
   "outputs": [
    {
     "name": "stdout",
     "output_type": "stream",
     "text": [
      "1 4 2 3 \n"
     ]
    }
   ],
   "source": [
    "n,x = map(int,input().split())\n",
    "\n",
    "a = list(map(int,input().split()))\n",
    "b = ''\n",
    "for i in range(n):\n",
    "    if a[i]<x:\n",
    "        b += str(a[i])+' '\n",
    "print(b)"
   ]
  },
  {
   "cell_type": "code",
   "execution_count": 41,
   "metadata": {},
   "outputs": [
    {
     "name": "stdout",
     "output_type": "stream",
     "text": [
      "2\n",
      "5\n",
      "7\n",
      "17\n",
      "7\n"
     ]
    }
   ],
   "source": [
    "while True:\n",
    "    a = input()\n",
    "    if a == '0 0':\n",
    "        break\n",
    "    x,y = map(int,(a.split()))\n",
    "    print(x+y)"
   ]
  },
  {
   "cell_type": "code",
   "execution_count": 4,
   "metadata": {},
   "outputs": [
    {
     "name": "stdout",
     "output_type": "stream",
     "text": [
      "2\n",
      "2\n",
      "2\n",
      "2\n",
      "2\n",
      "2\n",
      "2\n",
      "2\n",
      "2\n",
      "2\n",
      "2\n",
      "2\n"
     ]
    }
   ],
   "source": [
    "while True:\n",
    "    \n",
    "    x,y = map(int,input().split())\n",
    "    print(x+y)"
   ]
  },
  {
   "cell_type": "code",
   "execution_count": 1,
   "metadata": {},
   "outputs": [],
   "source": [
    "#ide\n",
    "import sys\n",
    "\n",
    "for line in sys.stdin:\n",
    "\n",
    "    a,b = map(int, line.split())\n",
    "\n",
    "    print(a+b)\n",
    "    "
   ]
  },
  {
   "cell_type": "code",
   "execution_count": null,
   "metadata": {},
   "outputs": [],
   "source": [
    "a = input()\n",
    "n = int(a)\n",
    "x = ''\n",
    "\n",
    "if 10<=n<=99:\n",
    "    x = a[1]+str(int(a[0])+int(a[1]))\n",
    "elif 0<=n<=9:\n",
    "    x = a[0]+a[0]\n",
    "\n",
    "if 10<=n<=99:\n",
    "    while(True):\n",
    "        if a==x:\n",
    "            break\n",
    "        \n",
    "\n",
    "elif 0<=n<=9:\n",
    "    while(True):\n",
    "        if a==x:\n",
    "            break"
   ]
  },
  {
   "cell_type": "code",
   "execution_count": 9,
   "metadata": {},
   "outputs": [
    {
     "name": "stdout",
     "output_type": "stream",
     "text": [
      "12\n"
     ]
    }
   ],
   "source": [
    "a = input()\n",
    "x = ''\n",
    "n = 1\n",
    "if len(a)==2:\n",
    "    if (int(a[0])+int(a[1]))>=10:\n",
    "        x = a[1]+str(int(a[0])+int(a[1])-10)\n",
    "    else:\n",
    "        x = a[1]+str(int(a[0])+int(a[1]))\n",
    "else:\n",
    "    x = str(a[0])+str(a[0])\n",
    "while True:\n",
    "    if int(a)==int(x):\n",
    "        break\n",
    "    if len(x)==2:    \n",
    "        if (int(x[0])+int(x[1]))>=10:\n",
    "            x = x[1]+str(int(x[0])+int(x[1])-10)\n",
    "        else:\n",
    "            x = x[1]+str(int(x[0])+int(x[1]))\n",
    "    else:\n",
    "        x = str(x[0])+str(x[0])         \n",
    "    n += 1    \n",
    "print(n)"
   ]
  },
  {
   "cell_type": "code",
   "execution_count": null,
   "metadata": {},
   "outputs": [],
   "source": [
    "num = int(input())\n",
    "cnt = 0\n",
    "k = num\n",
    "\n",
    "while True:\n",
    "    자릿수합 = num//10 + num%10\n",
    "    만든수 = (num%10)*10 + 자릿수합%10\n",
    "    cnt += 1\n",
    "    if k == 만든수:\n",
    "        break\n",
    "    num = 만든수\n",
    "    \n",
    "print(cnt)"
   ]
  },
  {
   "cell_type": "code",
   "execution_count": 2,
   "metadata": {},
   "outputs": [
    {
     "name": "stdout",
     "output_type": "stream",
     "text": [
      "2\n"
     ]
    }
   ],
   "source": [
    "x= '55'\n",
    "print(len(x))"
   ]
  },
  {
   "cell_type": "code",
   "execution_count": 6,
   "metadata": {},
   "outputs": [
    {
     "name": "stdout",
     "output_type": "stream",
     "text": [
      "7 35\n"
     ]
    }
   ],
   "source": [
    "n = int(input())\n",
    "a = list(map(int,input().split()))\n",
    "min = a[0]\n",
    "max = a[0]\n",
    "for i in range(n):\n",
    "    if max<=a[i]:\n",
    "        max = a[i]\n",
    "    if min>=a[i]:\n",
    "        min = a[i]\n",
    "print(min,max)\n"
   ]
  },
  {
   "cell_type": "code",
   "execution_count": 12,
   "metadata": {},
   "outputs": [
    {
     "name": "stdout",
     "output_type": "stream",
     "text": [
      "10\n"
     ]
    }
   ],
   "source": [
    "while True:\n",
    "    a = 10\n",
    "    break\n",
    "\n",
    "print(a)"
   ]
  },
  {
   "cell_type": "code",
   "execution_count": 16,
   "metadata": {},
   "outputs": [
    {
     "name": "stdout",
     "output_type": "stream",
     "text": [
      "85\n",
      "8\n"
     ]
    }
   ],
   "source": [
    "a = []\n",
    "n = 0\n",
    "max = 0\n",
    "for i in range(9):\n",
    "    a.append(int(input()))\n",
    "for i in range(9):\n",
    "    if max<=a[i]:\n",
    "        max = a[i]\n",
    "        n=i+1\n",
    "print(max)\n",
    "print(n)\n",
    "\n"
   ]
  },
  {
   "cell_type": "code",
   "execution_count": 32,
   "metadata": {},
   "outputs": [
    {
     "name": "stdout",
     "output_type": "stream",
     "text": [
      "1\n"
     ]
    }
   ],
   "source": [
    "a='2222221'\n",
    "c=2\n",
    "b=a.replace(f'{c}','')\n",
    "print(len(b))"
   ]
  },
  {
   "cell_type": "code",
   "execution_count": 34,
   "metadata": {},
   "outputs": [
    {
     "name": "stdout",
     "output_type": "stream",
     "text": [
      "3\n",
      "1\n",
      "0\n",
      "2\n",
      "0\n",
      "0\n",
      "0\n",
      "2\n",
      "0\n",
      "0\n"
     ]
    }
   ],
   "source": [
    "a = int(input())\n",
    "b = int(input())\n",
    "c = int(input())\n",
    "sum = str(a*b*c)\n",
    "sum_n = len(sum)\n",
    "for i in range(10):\n",
    "    n = sum.replace(f'{i}','')\n",
    "    result = sum_n - len(n)\n",
    "    print(result)"
   ]
  },
  {
   "cell_type": "code",
   "execution_count": null,
   "metadata": {},
   "outputs": [],
   "source": [
    "a = []\n",
    "b = []\n",
    "c = []\n",
    "for i in range(10):\n",
    "    a.append(int(input())%42)\n",
    "\n",
    "for i in range(10):\n",
    "    for j in range(len(a)):\n",
    "        if a[j]==a[j+1]:\n",
    "            b.insert(i,i+1)\n",
    "    c = set(b)\n",
    "\n",
    "\n"
   ]
  },
  {
   "cell_type": "code",
   "execution_count": 40,
   "metadata": {},
   "outputs": [
    {
     "name": "stdout",
     "output_type": "stream",
     "text": [
      "6\n"
     ]
    }
   ],
   "source": [
    "a = []\n",
    "for i in range(10):\n",
    "    a.append(int(input())%42)\n",
    "print(len(set(a)))"
   ]
  },
  {
   "cell_type": "code",
   "execution_count": 1,
   "metadata": {},
   "outputs": [
    {
     "name": "stdout",
     "output_type": "stream",
     "text": [
      "6\n"
     ]
    }
   ],
   "source": [
    "a = [1,2,3]\n",
    "#print(sum(a))\n",
    "sum_list = sum(a)\n",
    "print(sum_list)"
   ]
  },
  {
   "cell_type": "code",
   "execution_count": 13,
   "metadata": {},
   "outputs": [
    {
     "name": "stdout",
     "output_type": "stream",
     "text": [
      "55.55555555555556\n"
     ]
    }
   ],
   "source": [
    "n = int(input())\n",
    "a = list(map(int,input().split()))\n",
    "a_1 = []\n",
    "for i in range(n):\n",
    "    a_1.append((a[i]/max(a))*100)\n",
    "print(sum(a_1)/n)"
   ]
  },
  {
   "cell_type": "code",
   "execution_count": null,
   "metadata": {},
   "outputs": [],
   "source": [
    "n =int(input())\n"
   ]
  }
 ],
 "metadata": {
  "kernelspec": {
   "display_name": "Python 3.9.13 64-bit",
   "language": "python",
   "name": "python3"
  },
  "language_info": {
   "codemirror_mode": {
    "name": "ipython",
    "version": 3
   },
   "file_extension": ".py",
   "mimetype": "text/x-python",
   "name": "python",
   "nbconvert_exporter": "python",
   "pygments_lexer": "ipython3",
   "version": "3.9.13"
  },
  "orig_nbformat": 4,
  "vscode": {
   "interpreter": {
    "hash": "cf92aa13fedf815d5c8dd192b8d835913fde3e8bc926b2a0ad6cc74ef2ba3ca2"
   }
  }
 },
 "nbformat": 4,
 "nbformat_minor": 2
}
