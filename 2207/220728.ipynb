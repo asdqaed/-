{
 "cells": [
  {
   "cell_type": "code",
   "execution_count": null,
   "metadata": {},
   "outputs": [],
   "source": [
    "import sys\n",
    "input = sys.stdin.readline\n",
    "\n",
    "n = int(input())\n",
    "n_list = [[0]]*n\n",
    "for i in range(n):\n",
    "    a,b = map(int,input().split())\n",
    "    n_list[i] = [a,b]\n",
    "n_list.sort(key=lambda x: (x[0], x[1]))\n",
    "for i in  n_list:\n",
    "    s = ''\n",
    "    for j in i:\n",
    "        s += str(j)+' '\n",
    "    print(s)"
   ]
  },
  {
   "cell_type": "code",
   "execution_count": null,
   "metadata": {},
   "outputs": [],
   "source": [
    "import sys\n",
    "input = sys.stdin.readline\n",
    "\n",
    "n = int(input())\n",
    "n_list = [[0]]*n\n",
    "for i in range(n):\n",
    "    a,b = map(int,input().split())\n",
    "    n_list[i] = [a,b]\n",
    "n_list.sort(key=lambda x: (x[1], x[0]))\n",
    "for i in  n_list:\n",
    "    s = ''\n",
    "    for j in i:\n",
    "        s += str(j)+' '\n",
    "    print(s)"
   ]
  },
  {
   "cell_type": "code",
   "execution_count": null,
   "metadata": {},
   "outputs": [],
   "source": [
    "import sys\n",
    "input = sys.stdin.readline\n",
    "\n",
    "N = int(input())\n",
    "n_list = ['']*N\n",
    "for i in range(N):\n",
    "    n_list[i] = input()\n",
    "n_list = list(set(n_list))\n",
    "n_list.sort()\n",
    "n_list.sort(key=lambda x: len(x))\n",
    "for i in n_list:\n",
    "    print(i.strip())"
   ]
  },
  {
   "cell_type": "code",
   "execution_count": null,
   "metadata": {},
   "outputs": [],
   "source": [
    "import sys\n",
    "input = sys.stdin.readline\n",
    "\n",
    "N = int(input())\n",
    "n_list = [['']]*N\n",
    "for i in range(N):\n",
    "    a,b = map(str,input().split())\n",
    "    n_list[i] = [int(a),b]\n",
    "n_list.sort(key=lambda x: x[0])\n",
    "for i in  n_list:\n",
    "    s = ''\n",
    "    for j in i:\n",
    "        s += str(j)+' '\n",
    "    print(s)"
   ]
  },
  {
   "cell_type": "code",
   "execution_count": null,
   "metadata": {},
   "outputs": [],
   "source": [
    "s = input()\n",
    "ascending = '1 2 3 4 5 6 7 8'\n",
    "descending = '8 7 6 5 4 3 2 1'\n",
    "if s == ascending:\n",
    "    print('ascending')\n",
    "elif s == descending:\n",
    "    print('descending')\n",
    "else:\n",
    "    print('mixed')"
   ]
  },
  {
   "cell_type": "code",
   "execution_count": null,
   "metadata": {},
   "outputs": [],
   "source": [
    "a = list(map(int,input().split()))\n",
    "sum = 0\n",
    "for i in range(len(a)):\n",
    "    sum += a[i]**2\n",
    "print(sum%10)"
   ]
  },
  {
   "cell_type": "code",
   "execution_count": null,
   "metadata": {},
   "outputs": [],
   "source": [
    "n,m = map(int,input().split())\n",
    "cnt = 0\n",
    "toggle = ''\n",
    "w = 'W'\n",
    "b = 'B'\n",
    "\n",
    "first = input()\n",
    "toggle = first[0]\n",
    "for i in range(m):\n",
    "    if i != toggle:\n",
    "        cnt += 1\n"
   ]
  },
  {
   "cell_type": "code",
   "execution_count": null,
   "metadata": {},
   "outputs": [],
   "source": [
    "n,m = map(int,input().split())\n",
    "cnt1 = 0\n",
    "cnt2 = 0\n",
    "chess1 = ['']*n\n",
    "chess2 = ['']*n\n",
    "toggle1 = 'W'\n",
    "toggle2 = 'B'\n",
    "temp = ''\n",
    "for i in range(n):\n",
    "    line0 = input()\n",
    "    line1 = ''\n",
    "    line2 = ''\n",
    "    for j in range(m):\n",
    "        if line0[j] != toggle1:\n",
    "            cnt1 += 1\n",
    "        if line0[j] != toggle2:\n",
    "            cnt2 += 1\n",
    "        line1 += toggle1\n",
    "        line2 += toggle2\n",
    "        temp = toggle2\n",
    "        toggle2 = toggle1\n",
    "        toggle1 = temp\n",
    "        \n",
    "    if i%2 == 0:\n",
    "        toggle1 = 'B'\n",
    "        toggle2 = 'W'\n",
    "    else:\n",
    "        toggle1 = 'W'\n",
    "        toggle2 = 'B'\n",
    "\n",
    "    chess1[i] = line1\n",
    "    chess2[i] = line2\n",
    "for i in chess1:\n",
    "    print(i)    \n",
    "print()    \n",
    "for i in chess2:\n",
    "    print(i)\n",
    "# for i in range(n):\n",
    "#     for j in range{}\n",
    "print(cnt1,' ',cnt2)"
   ]
  },
  {
   "cell_type": "code",
   "execution_count": null,
   "metadata": {},
   "outputs": [],
   "source": [
    "n,m = map(int,input().split())\n",
    "cnt1 = 0\n",
    "cnt2 = 0\n",
    "toggle1 = 'W'\n",
    "toggle2 = 'B'\n",
    "temp = ''\n",
    "for i in range(n):\n",
    "    s = input()\n",
    "    print(s)\n",
    "    for j in range(m):\n",
    "        if s[j] != toggle1:\n",
    "            cnt1 += 1\n",
    "        if s[j] != toggle2:\n",
    "            cnt2 += 1\n",
    "        temp = toggle2\n",
    "        toggle2 = toggle1\n",
    "        toggle1 = temp\n",
    "    if i%2 == 0:\n",
    "        toggle1 = 'B'\n",
    "        toggle2 = 'W'\n",
    "    else:\n",
    "        toggle1 = 'W'\n",
    "        toggle2 = 'B'\n",
    "if cnt1 > cnt2:\n",
    "    print(cnt2)\n",
    "else:\n",
    "    print(cnt1)"
   ]
  },
  {
   "cell_type": "code",
   "execution_count": 42,
   "metadata": {},
   "outputs": [
    {
     "name": "stdout",
     "output_type": "stream",
     "text": [
      "234567891\n"
     ]
    }
   ],
   "source": [
    "s = '123456789123456789'\n",
    "print(s[0+1:8+1+1])"
   ]
  },
  {
   "cell_type": "code",
   "execution_count": null,
   "metadata": {},
   "outputs": [],
   "source": [
    "n,m = map(int,input().split())\n",
    "s = ['']*n\n",
    "\n",
    "for i in range(n):\n",
    "    s[i] = input()\n",
    "    \n"
   ]
  },
  {
   "cell_type": "code",
   "execution_count": 9,
   "metadata": {},
   "outputs": [
    {
     "name": "stdout",
     "output_type": "stream",
     "text": [
      "[]\n",
      "\n",
      "[]\n"
     ]
    }
   ],
   "source": [
    "n,m = map(int,input().split())\n",
    "\n",
    "cnt1_list = []\n",
    "cnt2_list = []\n",
    "toggle1 = 'W'\n",
    "toggle2 = 'B'\n",
    "temp = ''\n",
    "chess = []\n",
    "\n",
    "for i in range(n):\n",
    "    chess.append(input())\n",
    "\n",
    "for floor in range(n-8-1):\n",
    "    num1 = floor\n",
    "    for num1 in range(m-8-1):\n",
    "        cnt1 = 0\n",
    "        cnt2 = 0\n",
    "        num2 = num1\n",
    "        for j in range(8):\n",
    "            # s = input()\n",
    "            # print(s)\n",
    "            s = chess[j]\n",
    "            for num2 in range(8+num2):\n",
    "                print(num2)\n",
    "                if s[num2] != toggle1:\n",
    "                    cnt1 += 1\n",
    "                if s[num2] != toggle2:\n",
    "                    cnt2 += 1\n",
    "                temp = toggle2\n",
    "                toggle2 = toggle1\n",
    "                toggle1 = temp\n",
    "            if j%2 == 0:\n",
    "                toggle1 = 'B'\n",
    "                toggle2 = 'W'\n",
    "            else:\n",
    "                toggle1 = 'W'\n",
    "                toggle2 = 'B'\n",
    "        cnt1_list.append(cnt1)         \n",
    "        cnt2_list.append(cnt2)         \n",
    "print(cnt1_list)        \n",
    "print()        \n",
    "print(cnt2_list)        \n",
    "# if cnt1 > cnt2:\n",
    "#     print(cnt2)\n",
    "# else:\n",
    "#     print(cnt1)"
   ]
  }
 ],
 "metadata": {
  "kernelspec": {
   "display_name": "Python 3.9.13 64-bit",
   "language": "python",
   "name": "python3"
  },
  "language_info": {
   "codemirror_mode": {
    "name": "ipython",
    "version": 3
   },
   "file_extension": ".py",
   "mimetype": "text/x-python",
   "name": "python",
   "nbconvert_exporter": "python",
   "pygments_lexer": "ipython3",
   "version": "3.9.13"
  },
  "orig_nbformat": 4,
  "vscode": {
   "interpreter": {
    "hash": "cf92aa13fedf815d5c8dd192b8d835913fde3e8bc926b2a0ad6cc74ef2ba3ca2"
   }
  }
 },
 "nbformat": 4,
 "nbformat_minor": 2
}
