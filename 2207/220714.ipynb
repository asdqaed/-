{
 "cells": [
  {
   "cell_type": "code",
   "execution_count": null,
   "metadata": {},
   "outputs": [],
   "source": [
    "n = int(input())\n",
    "s = 1\n",
    "cnt = 0\n",
    "while True:\n",
    "    if s>=n:\n",
    "        print(cnt+1)\n",
    "        break\n",
    "    cnt += 1\n",
    "    s += 6*cnt"
   ]
  },
  {
   "cell_type": "code",
   "execution_count": 52,
   "metadata": {},
   "outputs": [
    {
     "name": "stdout",
     "output_type": "stream",
     "text": [
      "1/3\n"
     ]
    }
   ],
   "source": [
    "n = int(input())\n",
    "s = 1\n",
    "cnt = 0\n",
    "while True:\n",
    "    cnt += 1\n",
    "    s = (cnt*(cnt+1))/2\n",
    "    if s>=n:\n",
    "        if cnt%2 == 0:\n",
    "            print(str(int(cnt-(s-n)))+'/'+str(int(s-n+1)))\n",
    "            break\n",
    "        else:\n",
    "            print(str(int(s-n+1))+'/'+str(int(cnt-(s-n))))\n",
    "            break"
   ]
  }
 ],
 "metadata": {
  "kernelspec": {
   "display_name": "Python 3.9.13 64-bit",
   "language": "python",
   "name": "python3"
  },
  "language_info": {
   "codemirror_mode": {
    "name": "ipython",
    "version": 3
   },
   "file_extension": ".py",
   "mimetype": "text/x-python",
   "name": "python",
   "nbconvert_exporter": "python",
   "pygments_lexer": "ipython3",
   "version": "3.9.13"
  },
  "orig_nbformat": 4,
  "vscode": {
   "interpreter": {
    "hash": "cf92aa13fedf815d5c8dd192b8d835913fde3e8bc926b2a0ad6cc74ef2ba3ca2"
   }
  }
 },
 "nbformat": 4,
 "nbformat_minor": 2
}
