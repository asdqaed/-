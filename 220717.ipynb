{
 "cells": [
  {
   "cell_type": "code",
   "execution_count": 2,
   "metadata": {},
   "outputs": [
    {
     "name": "stdout",
     "output_type": "stream",
     "text": [
      "-1\n"
     ]
    }
   ],
   "source": [
    "s = []\n",
    "M = int(input())\n",
    "N = int(input())\n",
    "while M<=N: \n",
    "    cnt = 0\n",
    "    for i in range(1,M+1):\n",
    "        if M%i == 0:\n",
    "            cnt += 1\n",
    "        if cnt > 2:\n",
    "            break\n",
    "    if cnt == 2:\n",
    "        s.append(M)\n",
    "    M += 1\n",
    "if len(s) == 0:\n",
    "    print(-1)\n",
    "else:\n",
    "    print(sum(s))\n",
    "    print(s[0])"
   ]
  },
  {
   "cell_type": "code",
   "execution_count": 9,
   "metadata": {},
   "outputs": [
    {
     "name": "stdout",
     "output_type": "stream",
     "text": [
      "2\n",
      "2\n",
      "2\n",
      "3\n",
      "3\n"
     ]
    }
   ],
   "source": [
    "N = int(input())\n",
    "cnt = 2\n",
    "s = []\n",
    "while cnt <= N:\n",
    "    if N%cnt == 0:\n",
    "        s.append(cnt)\n",
    "        N = N/cnt\n",
    "    else:\n",
    "        cnt += 1\n",
    "for i in s:\n",
    "    print(i)"
   ]
  },
  {
   "cell_type": "code",
   "execution_count": 10,
   "metadata": {},
   "outputs": [
    {
     "name": "stdout",
     "output_type": "stream",
     "text": [
      "3\n",
      "5\n",
      "7\n",
      "11\n",
      "13\n"
     ]
    }
   ],
   "source": [
    "M,N=map(int,input().split())\n",
    "while M<=N:\n",
    "    cnt = 0\n",
    "    for i in range(1,M+1):\n",
    "        if M%i == 0:\n",
    "            cnt += 1\n",
    "        if cnt > 2:\n",
    "            break\n",
    "    if cnt == 2:\n",
    "        print(M)\n",
    "    M += 1\n",
    "    #시간초과\n"
   ]
  },
  {
   "cell_type": "code",
   "execution_count": null,
   "metadata": {},
   "outputs": [],
   "source": [
    "import sys\n",
    "M,N=map(int,sys.stdin.readline().split())\n",
    "while M<=N:\n",
    "    cnt = 0\n",
    "    for i in range(1,M+1):\n",
    "        if M%i == 0:\n",
    "            cnt += 1\n",
    "        if cnt > 2:\n",
    "            break\n",
    "    if cnt == 2:\n",
    "        print(M)\n",
    "    M += 1\n",
    "# 이것도 시간초과"
   ]
  },
  {
   "cell_type": "code",
   "execution_count": 1,
   "metadata": {},
   "outputs": [],
   "source": [
    "import sys\n",
    "M,N=map(int,sys.stdin.readline().split())\n",
    "while M<=N:\n",
    "    cnt = 0\n",
    "    for i in range(2,M):\n",
    "        if M%i == 0:\n",
    "            cnt = 1\n",
    "            break\n",
    "    if cnt == 0:\n",
    "        print(M)    \n",
    "    M += 1"
   ]
  },
  {
   "cell_type": "code",
   "execution_count": null,
   "metadata": {},
   "outputs": [],
   "source": [
    "M,N=map(int,input().split())\n",
    "while M<=N:\n",
    "    cnt = 0\n",
    "    for i in range(1,M+1):\n",
    "        if M%i == 0:\n",
    "            cnt += 1\n",
    "        if cnt > 2:\n",
    "            break\n",
    "    if cnt == 2:\n",
    "        print(M)\n",
    "    M += 1\n",
    "    #시간초과\n"
   ]
  },
  {
   "cell_type": "code",
   "execution_count": 2,
   "metadata": {},
   "outputs": [
    {
     "name": "stdout",
     "output_type": "stream",
     "text": [
      "100.0\n"
     ]
    }
   ],
   "source": [
    "print((10000**0.5))"
   ]
  }
 ],
 "metadata": {
  "kernelspec": {
   "display_name": "Python 3.9.13 64-bit",
   "language": "python",
   "name": "python3"
  },
  "language_info": {
   "codemirror_mode": {
    "name": "ipython",
    "version": 3
   },
   "file_extension": ".py",
   "mimetype": "text/x-python",
   "name": "python",
   "nbconvert_exporter": "python",
   "pygments_lexer": "ipython3",
   "version": "3.9.13"
  },
  "orig_nbformat": 4,
  "vscode": {
   "interpreter": {
    "hash": "cf92aa13fedf815d5c8dd192b8d835913fde3e8bc926b2a0ad6cc74ef2ba3ca2"
   }
  }
 },
 "nbformat": 4,
 "nbformat_minor": 2
}
