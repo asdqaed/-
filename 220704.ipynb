{
 "cells": [
  {
   "cell_type": "code",
   "execution_count": 4,
   "metadata": {},
   "outputs": [
    {
     "name": "stdout",
     "output_type": "stream",
     "text": [
      "1998\n"
     ]
    }
   ],
   "source": [
    "a = input()\n",
    "\n",
    "print(int(a)-543)\n"
   ]
  },
  {
   "cell_type": "code",
   "execution_count": 6,
   "metadata": {},
   "outputs": [
    {
     "name": "stdout",
     "output_type": "stream",
     "text": [
      "1\n",
      "1\n",
      "0\n",
      "0\n"
     ]
    }
   ],
   "source": [
    "A,B,C=map(int,input().split())\n",
    "print((A+B)%C)\n",
    "print(((A%C) + (B%C))%C)\n",
    "print((A*B)%C)\n",
    "print(((A%C) *(B%C))%C)"
   ]
  },
  {
   "cell_type": "code",
   "execution_count": 8,
   "metadata": {},
   "outputs": [
    {
     "name": "stdout",
     "output_type": "stream",
     "text": [
      "2360\n",
      "3776\n",
      "1416\n",
      "181720\n"
     ]
    }
   ],
   "source": [
    "a = input()\n",
    "b = input()\n",
    "print(int(a)*int(b[2]))\n",
    "print(int(a)*int(b[1]))\n",
    "print(int(a)*int(b[0]))\n",
    "print(int(a)*int(b))"
   ]
  },
  {
   "cell_type": "code",
   "execution_count": 10,
   "metadata": {},
   "outputs": [
    {
     "name": "stdout",
     "output_type": "stream",
     "text": [
      "         ,r'\"7\n",
      "r`-_   ,'  ,/\n",
      " \\. \". L_r'\n",
      "   `~\\/\n",
      "      |\n",
      "      |\n",
      "\n"
     ]
    }
   ],
   "source": [
    "print(r\"\"\"         ,r'\"7\n",
    "r`-_   ,'  ,/\n",
    " \\. \". L_r'\n",
    "   `~\\/\n",
    "      |\n",
    "      |\n",
    "\"\"\")"
   ]
  },
  {
   "cell_type": "code",
   "execution_count": 13,
   "metadata": {},
   "outputs": [
    {
     "name": "stdout",
     "output_type": "stream",
     "text": [
      "=\n"
     ]
    }
   ],
   "source": [
    "a,b = map(int,input().split())\n",
    "if a>b:\n",
    "    print('>')\n",
    "elif a<b:\n",
    "    print('<')\n",
    "else:\n",
    "    print('==')        "
   ]
  },
  {
   "cell_type": "code",
   "execution_count": 5,
   "metadata": {},
   "outputs": [
    {
     "name": "stdout",
     "output_type": "stream",
     "text": [
      "D\n"
     ]
    }
   ],
   "source": [
    "a = int(input())\n",
    "if 90<=a<=100:\n",
    "    print('A')\n",
    "elif 80<=a<=89:\n",
    "    print('B')\n",
    "elif 70<=a<=79:\n",
    "    print('C')      \n",
    "elif 60<=a<=69:\n",
    "    print('D')\n",
    "else:\n",
    "    print('F')    "
   ]
  },
  {
   "cell_type": "code",
   "execution_count": null,
   "metadata": {},
   "outputs": [],
   "source": [
    "a = int(input())\n",
    "if (a%4==0 and a%100!=0) or a%400==0:\n",
    "    print('1')\n",
    "else:\n",
    "    print('0')    \n"
   ]
  }
 ],
 "metadata": {
  "kernelspec": {
   "display_name": "Python 3.9.13 64-bit",
   "language": "python",
   "name": "python3"
  },
  "language_info": {
   "codemirror_mode": {
    "name": "ipython",
    "version": 3
   },
   "file_extension": ".py",
   "mimetype": "text/x-python",
   "name": "python",
   "nbconvert_exporter": "python",
   "pygments_lexer": "ipython3",
   "version": "3.9.13"
  },
  "orig_nbformat": 4,
  "vscode": {
   "interpreter": {
    "hash": "cf92aa13fedf815d5c8dd192b8d835913fde3e8bc926b2a0ad6cc74ef2ba3ca2"
   }
  }
 },
 "nbformat": 4,
 "nbformat_minor": 2
}
