{
 "cells": [
  {
   "cell_type": "code",
   "execution_count": null,
   "metadata": {},
   "outputs": [],
   "source": [
    "def cal(a, b):\n",
    "    while b > 0:\n",
    "        a, b = b, a % b\n",
    "    return a\n",
    "\n",
    "a,b = map(int,input().split())\n",
    "\n"
   ]
  },
  {
   "cell_type": "code",
   "execution_count": null,
   "metadata": {},
   "outputs": [],
   "source": [
    "def gcd(a, b):\n",
    "    while b > 0:\n",
    "        a, b = b, a % b\n",
    "    return a\n",
    "a,b = map(int,input().split())\n",
    "min = a if a<b else b\n",
    "result = gcd(a,b)\n",
    "print(result)\n",
    "print(int((a*b)/result))"
   ]
  },
  {
   "cell_type": "code",
   "execution_count": null,
   "metadata": {},
   "outputs": [],
   "source": [
    "while True:\n",
    "    a = list(map(int,input().split()))\n",
    "    if a[0] == 0:\n",
    "        break\n",
    "    a.sort()\n",
    "    if a[2]**2 == a[0]**2+a[1]**2:\n",
    "        print('right')\n",
    "    else:\n",
    "        print('wrong')"
   ]
  },
  {
   "cell_type": "code",
   "execution_count": null,
   "metadata": {},
   "outputs": [],
   "source": [
    "n = int(input())\n",
    "\n",
    "for i in range(n):\n",
    "    a = input().strip()\n",
    "    temp1 = a\n",
    "    temp2 = ''\n",
    "    cnt = 1\n",
    "    while cnt<100:\n",
    "        tmep2 = temp1.replace('()','')\n",
    "        if tmep2 == tmep2.replace('()',''):\n",
    "            break\n",
    "        temp1 = temp2\n",
    "        cnt +=1\n",
    "    if len(a)==0:\n",
    "        print('YES')\n",
    "    else:\n",
    "        print('NO')        \n"
   ]
  },
  {
   "cell_type": "code",
   "execution_count": null,
   "metadata": {},
   "outputs": [],
   "source": [
    "import sys\n",
    "input = sys.stdin.readline\n",
    "n = int(input())\n",
    "for i in range(n):\n",
    "    a = input().strip()\n",
    "    while True:\n",
    "        temp1 = a.replace('()','').strip()\n",
    "        temp2 = temp1.replace('()','').strip()\n",
    "        if temp1 == temp2:\n",
    "            a = temp1\n",
    "            break\n",
    "        a = temp1\n",
    "    if len(a)==0:\n",
    "        print('YES')\n",
    "    else:\n",
    "        print('NO')"
   ]
  },
  {
   "cell_type": "code",
   "execution_count": null,
   "metadata": {},
   "outputs": [],
   "source": [
    "import sys\n",
    "input = sys.stdin.readline\n",
    "n = int(input())\n",
    "a = []\n",
    "command = []\n",
    "temp = 0\n",
    "for i in range(n):\n",
    "    command = list(input().split())\n",
    "    if command[0] == 'push':\n",
    "        a.append(command[1])\n",
    "    elif command[0] == 'pop':\n",
    "        if len(a) == 0:\n",
    "            print(-1)\n",
    "        else:\n",
    "            print(a.pop())\n",
    "    elif command[0] == 'size':\n",
    "        print(len(a))\n",
    "    elif command[0] == 'empty':\n",
    "        if len(a) == 0:\n",
    "            print(1)\n",
    "        else:\n",
    "            print(0)\n",
    "    else:\n",
    "        if len(a) == 0:\n",
    "            print(-1)\n",
    "        else:\n",
    "            temp = a.pop()\n",
    "            print(temp)\n",
    "            a.append(temp)"
   ]
  },
  {
   "cell_type": "code",
   "execution_count": 15,
   "metadata": {},
   "outputs": [
    {
     "ename": "TypeError",
     "evalue": "'Queue' object is not subscriptable",
     "output_type": "error",
     "traceback": [
      "\u001b[1;31m---------------------------------------------------------------------------\u001b[0m",
      "\u001b[1;31mTypeError\u001b[0m                                 Traceback (most recent call last)",
      "\u001b[1;32mc:\\Users\\User\\jupter_notebook\\코딩테스트\\coding-test\\220801.ipynb 셀 7\u001b[0m in \u001b[0;36m<cell line: 9>\u001b[1;34m()\u001b[0m\n\u001b[0;32m     <a href='vscode-notebook-cell:/c%3A/Users/User/jupter_notebook/%EC%BD%94%EB%94%A9%ED%85%8C%EC%8A%A4%ED%8A%B8/coding-test/220801.ipynb#ch0000006?line=26'>27</a>\u001b[0m         \u001b[39mprint\u001b[39m(\u001b[39m-\u001b[39m\u001b[39m1\u001b[39m)\n\u001b[0;32m     <a href='vscode-notebook-cell:/c%3A/Users/User/jupter_notebook/%EC%BD%94%EB%94%A9%ED%85%8C%EC%8A%A4%ED%8A%B8/coding-test/220801.ipynb#ch0000006?line=27'>28</a>\u001b[0m     \u001b[39melse\u001b[39;00m:\n\u001b[1;32m---> <a href='vscode-notebook-cell:/c%3A/Users/User/jupter_notebook/%EC%BD%94%EB%94%A9%ED%85%8C%EC%8A%A4%ED%8A%B8/coding-test/220801.ipynb#ch0000006?line=28'>29</a>\u001b[0m         \u001b[39mprint\u001b[39m(a[\u001b[39m0\u001b[39;49m])\n\u001b[0;32m     <a href='vscode-notebook-cell:/c%3A/Users/User/jupter_notebook/%EC%BD%94%EB%94%A9%ED%85%8C%EC%8A%A4%ED%8A%B8/coding-test/220801.ipynb#ch0000006?line=29'>30</a>\u001b[0m \u001b[39melse\u001b[39;00m:\n\u001b[0;32m     <a href='vscode-notebook-cell:/c%3A/Users/User/jupter_notebook/%EC%BD%94%EB%94%A9%ED%85%8C%EC%8A%A4%ED%8A%B8/coding-test/220801.ipynb#ch0000006?line=30'>31</a>\u001b[0m     \u001b[39mif\u001b[39;00m a\u001b[39m.\u001b[39mqsize() \u001b[39m==\u001b[39m \u001b[39m0\u001b[39m:\n",
      "\u001b[1;31mTypeError\u001b[0m: 'Queue' object is not subscriptable"
     ]
    }
   ],
   "source": [
    "import queue\n",
    "\n",
    "# import sys\n",
    "# input = sys.stdin.readline\n",
    "n = int(input())\n",
    "a = queue.Queue()\n",
    "command = []\n",
    "temp = 0\n",
    "for i in range(n):\n",
    "    command = list(input().split())\n",
    "    if command[0] == 'push':\n",
    "        a.put(command[1])\n",
    "    elif command[0] == 'pop':\n",
    "        if a.qsize() == 0:\n",
    "            print(-1)\n",
    "        else:\n",
    "            print(a.get())\n",
    "    elif command[0] == 'size':\n",
    "        print(a.qsize())\n",
    "    elif command[0] == 'empty':\n",
    "        if a.qsize() == 0:\n",
    "            print(1)\n",
    "        else:\n",
    "            print(0)\n",
    "    elif command[0] == 'front':\n",
    "        if a.qsize() == 0:\n",
    "            print(-1)\n",
    "        else:\n",
    "            temp = a.get(0)\n",
    "            print(temp)\n",
    "            a.put(temp)\n",
    "    else:\n",
    "        if a.qsize() == 0:\n",
    "            print(-1)\n",
    "        else:\n",
    "            temp = a.get()\n",
    "            print(temp)\n",
    "            a.put(temp)\n"
   ]
  },
  {
   "cell_type": "code",
   "execution_count": 18,
   "metadata": {},
   "outputs": [
    {
     "name": "stdout",
     "output_type": "stream",
     "text": [
      "1\n",
      "2\n",
      "2\n",
      "0\n",
      "1\n",
      "2\n",
      "-1\n",
      "0\n",
      "1\n",
      "-1\n",
      "0\n",
      "3\n"
     ]
    }
   ],
   "source": [
    "\n",
    "import sys\n",
    "input = sys.stdin.readline\n",
    "n = int(input())\n",
    "a = []\n",
    "command = []\n",
    "temp = 0\n",
    "for i in range(n):\n",
    "    command = list(input().split())\n",
    "    if command[0] == 'push':\n",
    "        a.insert(0,command[1])\n",
    "    elif command[0] == 'pop':\n",
    "        if len(a) == 0:\n",
    "            print(-1)\n",
    "        else:\n",
    "            print(a.pop())\n",
    "    elif command[0] == 'size':\n",
    "        print(len(a))\n",
    "    elif command[0] == 'empty':\n",
    "        if len(a) == 0:\n",
    "            print(1)\n",
    "        else:\n",
    "            print(0)\n",
    "    elif command[0] == 'front':\n",
    "        if len(a) == 0:\n",
    "            print(-1)\n",
    "        else:\n",
    "            temp = a.pop()\n",
    "            print(temp)\n",
    "            a.append(temp)\n",
    "    else:\n",
    "        if len(a) == 0:\n",
    "            print(-1)\n",
    "        else:\n",
    "            print(a[0])"
   ]
  }
 ],
 "metadata": {
  "kernelspec": {
   "display_name": "Python 3.9.13 64-bit",
   "language": "python",
   "name": "python3"
  },
  "language_info": {
   "codemirror_mode": {
    "name": "ipython",
    "version": 3
   },
   "file_extension": ".py",
   "mimetype": "text/x-python",
   "name": "python",
   "nbconvert_exporter": "python",
   "pygments_lexer": "ipython3",
   "version": "3.9.13"
  },
  "orig_nbformat": 4,
  "vscode": {
   "interpreter": {
    "hash": "cf92aa13fedf815d5c8dd192b8d835913fde3e8bc926b2a0ad6cc74ef2ba3ca2"
   }
  }
 },
 "nbformat": 4,
 "nbformat_minor": 2
}
