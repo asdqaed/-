{
 "cells": [
  {
   "cell_type": "code",
   "execution_count": 5,
   "metadata": {},
   "outputs": [
    {
     "name": "stdout",
     "output_type": "stream",
     "text": [
      "0\n"
     ]
    }
   ],
   "source": [
    "N,M = map(int,input().split())\n",
    "\n",
    "S = ['']*N\n",
    "S2 = ['']*M\n",
    "cnt = 0\n",
    "for i in range(N):\n",
    "    S[i] = input()\n",
    "\n",
    "for i in range(M):\n",
    "    S2[i] = input()\n",
    "s2 = set(S2)\n",
    "for i in S:\n",
    "    for j in s2:\n",
    "        if i ==j:\n",
    "            cnt += 1\n",
    "            break\n",
    "print(cnt)"
   ]
  },
  {
   "cell_type": "code",
   "execution_count": null,
   "metadata": {},
   "outputs": [],
   "source": [
    "import sys\n",
    "\n",
    "N,M = map(int,sys.stdin.readline().split())\n",
    "\n",
    "S = ['']*N\n",
    "\n",
    "cnt = 0\n",
    "for i in range(N):\n",
    "    S[i] = sys.stdin.readline()\n",
    "\n",
    "for i in range(M):\n",
    "    s = sys.stdin.readline()\n",
    "    if s in S:\n",
    "        cnt += 1\n",
    "\n",
    "print(cnt)"
   ]
  }
 ],
 "metadata": {
  "kernelspec": {
   "display_name": "Python 3.9.13 64-bit",
   "language": "python",
   "name": "python3"
  },
  "language_info": {
   "codemirror_mode": {
    "name": "ipython",
    "version": 3
   },
   "file_extension": ".py",
   "mimetype": "text/x-python",
   "name": "python",
   "nbconvert_exporter": "python",
   "pygments_lexer": "ipython3",
   "version": "3.9.13"
  },
  "orig_nbformat": 4,
  "vscode": {
   "interpreter": {
    "hash": "cf92aa13fedf815d5c8dd192b8d835913fde3e8bc926b2a0ad6cc74ef2ba3ca2"
   }
  }
 },
 "nbformat": 4,
 "nbformat_minor": 2
}
