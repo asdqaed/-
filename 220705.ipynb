{
 "cells": [
  {
   "cell_type": "code",
   "execution_count": 2,
   "metadata": {},
   "outputs": [
    {
     "name": "stdout",
     "output_type": "stream",
     "text": [
      "4\n"
     ]
    }
   ],
   "source": [
    "x = int(input())\n",
    "y = int(input())\n",
    "\n",
    "if x>0 and y>0:\n",
    "    print('1')\n",
    "elif x<0 and y>0:\n",
    "    print('2')\n",
    "elif x<0 and y<0:\n",
    "    print('3')\n",
    "else:\n",
    "    print('4')            "
   ]
  },
  {
   "cell_type": "code",
   "execution_count": 15,
   "metadata": {},
   "outputs": [
    {
     "name": "stdout",
     "output_type": "stream",
     "text": [
      "22 55\n"
     ]
    }
   ],
   "source": [
    "h,m=map(int,input().split())\n",
    "\n",
    "if h==0 and m<45:\n",
    "    print('23',60-(45-m))\n",
    "elif h==0 and m==45:\n",
    "    print('0')\n",
    "elif m<45:\n",
    "    print(h-1,60-(45-m))\n",
    "elif m==45:\n",
    "    print(h)\n",
    "else:\n",
    "    print(h,60-m)\n"
   ]
  },
  {
   "cell_type": "code",
   "execution_count": 17,
   "metadata": {},
   "outputs": [
    {
     "name": "stdout",
     "output_type": "stream",
     "text": [
      "9 25\n"
     ]
    }
   ],
   "source": [
    "h,m = map(int,input().split())\n",
    "\n",
    "if m >= 45:\n",
    "    print(h, m-45)\n",
    "elif h>0 and m < 45:\n",
    "    print(h-1, m+15)\n",
    "else:\n",
    "    print(23, m+15)"
   ]
  },
  {
   "cell_type": "code",
   "execution_count": null,
   "metadata": {},
   "outputs": [],
   "source": []
  }
 ],
 "metadata": {
  "kernelspec": {
   "display_name": "Python 3.9.13 64-bit",
   "language": "python",
   "name": "python3"
  },
  "language_info": {
   "codemirror_mode": {
    "name": "ipython",
    "version": 3
   },
   "file_extension": ".py",
   "mimetype": "text/x-python",
   "name": "python",
   "nbconvert_exporter": "python",
   "pygments_lexer": "ipython3",
   "version": "3.9.13"
  },
  "orig_nbformat": 4,
  "vscode": {
   "interpreter": {
    "hash": "cf92aa13fedf815d5c8dd192b8d835913fde3e8bc926b2a0ad6cc74ef2ba3ca2"
   }
  }
 },
 "nbformat": 4,
 "nbformat_minor": 2
}
